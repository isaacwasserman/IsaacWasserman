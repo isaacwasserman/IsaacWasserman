{
 "cells": [
  {
   "cell_type": "code",
   "execution_count": 3,
   "metadata": {},
   "outputs": [],
   "source": [
    "import os\n",
    "import dotenv\n",
    "dotenv.load_dotenv(\".env.local\")\n",
    "\n",
    "from supabase import create_client, Client\n",
    "import time\n",
    "from copy import deepcopy\n",
    "\n",
    "import re\n",
    "import json\n",
    "from urllib.request import urlopen\n",
    "import requests\n",
    "import pandas as pd\n",
    "import plotly.express as px\n",
    "px.set_mapbox_access_token(os.environ[\"MAPBOX_TOKEN\"])\n",
    "from datetime import datetime, timedelta"
   ]
  },
  {
   "cell_type": "code",
   "execution_count": 4,
   "metadata": {},
   "outputs": [
    {
     "name": "stderr",
     "output_type": "stream",
     "text": [
      "2024-03-03 15:41:07,770:INFO - HTTP Request: GET https://wvklzyidkkrskdgquocj.supabase.co/rest/v1/visits?select=%2A \"HTTP/1.1 200 OK\"\n"
     ]
    }
   ],
   "source": [
    "client = create_client(\"https://wvklzyidkkrskdgquocj.supabase.co\", os.environ[\"SUPABASE_KEY\"])\n",
    "response = client.table('visits').select(\"*\").execute()"
   ]
  },
  {
   "cell_type": "code",
   "execution_count": 5,
   "metadata": {},
   "outputs": [
    {
     "data": {
      "text/html": [
       "<div>\n",
       "<style scoped>\n",
       "    .dataframe tbody tr th:only-of-type {\n",
       "        vertical-align: middle;\n",
       "    }\n",
       "\n",
       "    .dataframe tbody tr th {\n",
       "        vertical-align: top;\n",
       "    }\n",
       "\n",
       "    .dataframe thead th {\n",
       "        text-align: right;\n",
       "    }\n",
       "</style>\n",
       "<table border=\"1\" class=\"dataframe\">\n",
       "  <thead>\n",
       "    <tr style=\"text-align: right;\">\n",
       "      <th></th>\n",
       "      <th>id</th>\n",
       "      <th>created_at</th>\n",
       "      <th>ip_address</th>\n",
       "      <th>route</th>\n",
       "      <th>user_agent</th>\n",
       "      <th>is_bot</th>\n",
       "      <th>referrer</th>\n",
       "    </tr>\n",
       "  </thead>\n",
       "  <tbody>\n",
       "    <tr>\n",
       "      <th>0</th>\n",
       "      <td>7</td>\n",
       "      <td>2024-02-27 04:41:20.067741+00:00</td>\n",
       "      <td>64.23.187.48</td>\n",
       "      <td>/</td>\n",
       "      <td>None</td>\n",
       "      <td>None</td>\n",
       "      <td>None</td>\n",
       "    </tr>\n",
       "    <tr>\n",
       "      <th>1</th>\n",
       "      <td>8</td>\n",
       "      <td>2024-02-27 04:41:20.795991+00:00</td>\n",
       "      <td>64.23.187.48</td>\n",
       "      <td>/</td>\n",
       "      <td>None</td>\n",
       "      <td>None</td>\n",
       "      <td>None</td>\n",
       "    </tr>\n",
       "    <tr>\n",
       "      <th>2</th>\n",
       "      <td>9</td>\n",
       "      <td>2024-02-27 04:41:21.213661+00:00</td>\n",
       "      <td>172.69.23.187</td>\n",
       "      <td>/</td>\n",
       "      <td>None</td>\n",
       "      <td>None</td>\n",
       "      <td>None</td>\n",
       "    </tr>\n",
       "    <tr>\n",
       "      <th>3</th>\n",
       "      <td>10</td>\n",
       "      <td>2024-02-27 04:42:53.205514+00:00</td>\n",
       "      <td>76.99.220.36</td>\n",
       "      <td>/</td>\n",
       "      <td>None</td>\n",
       "      <td>None</td>\n",
       "      <td>None</td>\n",
       "    </tr>\n",
       "    <tr>\n",
       "      <th>4</th>\n",
       "      <td>11</td>\n",
       "      <td>2024-02-27 04:43:51.899723+00:00</td>\n",
       "      <td>172.69.22.42</td>\n",
       "      <td>/</td>\n",
       "      <td>None</td>\n",
       "      <td>None</td>\n",
       "      <td>None</td>\n",
       "    </tr>\n",
       "    <tr>\n",
       "      <th>...</th>\n",
       "      <td>...</td>\n",
       "      <td>...</td>\n",
       "      <td>...</td>\n",
       "      <td>...</td>\n",
       "      <td>...</td>\n",
       "      <td>...</td>\n",
       "      <td>...</td>\n",
       "    </tr>\n",
       "    <tr>\n",
       "      <th>422</th>\n",
       "      <td>427</td>\n",
       "      <td>2024-03-03 13:05:38.378563+00:00</td>\n",
       "      <td>83.229.85.81</td>\n",
       "      <td>/</td>\n",
       "      <td>python-requests/2.31.0</td>\n",
       "      <td>true</td>\n",
       "      <td>None</td>\n",
       "    </tr>\n",
       "    <tr>\n",
       "      <th>423</th>\n",
       "      <td>428</td>\n",
       "      <td>2024-03-03 13:51:14.315301+00:00</td>\n",
       "      <td>17.241.219.73</td>\n",
       "      <td>/cooking</td>\n",
       "      <td>Mozilla/5.0 (Macintosh; Intel Mac OS X 10_15_5...</td>\n",
       "      <td>true</td>\n",
       "      <td>None</td>\n",
       "    </tr>\n",
       "    <tr>\n",
       "      <th>424</th>\n",
       "      <td>429</td>\n",
       "      <td>2024-03-03 17:44:54.681990+00:00</td>\n",
       "      <td>182.42.104.32</td>\n",
       "      <td>/</td>\n",
       "      <td>Mozilla/5.0 (iPhone; CPU iPhone OS 13_2_3 like...</td>\n",
       "      <td>false</td>\n",
       "      <td>https://www.isaacwasserman.com/</td>\n",
       "    </tr>\n",
       "    <tr>\n",
       "      <th>425</th>\n",
       "      <td>430</td>\n",
       "      <td>2024-03-03 18:32:28.828089+00:00</td>\n",
       "      <td>116.205.133.55</td>\n",
       "      <td>/</td>\n",
       "      <td>Mozilla/5.0 (Windows NT 10.0; Win64; x64) Appl...</td>\n",
       "      <td>false</td>\n",
       "      <td>None</td>\n",
       "    </tr>\n",
       "    <tr>\n",
       "      <th>426</th>\n",
       "      <td>431</td>\n",
       "      <td>2024-03-03 18:54:52.117245+00:00</td>\n",
       "      <td>114.119.139.26</td>\n",
       "      <td>/technology/portrait-shadow-removal</td>\n",
       "      <td>Mozilla/5.0 (Linux; Android 7.0;) AppleWebKit/...</td>\n",
       "      <td>true</td>\n",
       "      <td>https://isaacwasserman.com/technology</td>\n",
       "    </tr>\n",
       "  </tbody>\n",
       "</table>\n",
       "<p>427 rows × 7 columns</p>\n",
       "</div>"
      ],
      "text/plain": [
       "      id                       created_at      ip_address  \\\n",
       "0      7 2024-02-27 04:41:20.067741+00:00    64.23.187.48   \n",
       "1      8 2024-02-27 04:41:20.795991+00:00    64.23.187.48   \n",
       "2      9 2024-02-27 04:41:21.213661+00:00   172.69.23.187   \n",
       "3     10 2024-02-27 04:42:53.205514+00:00    76.99.220.36   \n",
       "4     11 2024-02-27 04:43:51.899723+00:00    172.69.22.42   \n",
       "..   ...                              ...             ...   \n",
       "422  427 2024-03-03 13:05:38.378563+00:00    83.229.85.81   \n",
       "423  428 2024-03-03 13:51:14.315301+00:00   17.241.219.73   \n",
       "424  429 2024-03-03 17:44:54.681990+00:00   182.42.104.32   \n",
       "425  430 2024-03-03 18:32:28.828089+00:00  116.205.133.55   \n",
       "426  431 2024-03-03 18:54:52.117245+00:00  114.119.139.26   \n",
       "\n",
       "                                   route  \\\n",
       "0                                      /   \n",
       "1                                      /   \n",
       "2                                      /   \n",
       "3                                      /   \n",
       "4                                      /   \n",
       "..                                   ...   \n",
       "422                                    /   \n",
       "423                             /cooking   \n",
       "424                                    /   \n",
       "425                                    /   \n",
       "426  /technology/portrait-shadow-removal   \n",
       "\n",
       "                                            user_agent is_bot  \\\n",
       "0                                                 None   None   \n",
       "1                                                 None   None   \n",
       "2                                                 None   None   \n",
       "3                                                 None   None   \n",
       "4                                                 None   None   \n",
       "..                                                 ...    ...   \n",
       "422                             python-requests/2.31.0   true   \n",
       "423  Mozilla/5.0 (Macintosh; Intel Mac OS X 10_15_5...   true   \n",
       "424  Mozilla/5.0 (iPhone; CPU iPhone OS 13_2_3 like...  false   \n",
       "425  Mozilla/5.0 (Windows NT 10.0; Win64; x64) Appl...  false   \n",
       "426  Mozilla/5.0 (Linux; Android 7.0;) AppleWebKit/...   true   \n",
       "\n",
       "                                  referrer  \n",
       "0                                     None  \n",
       "1                                     None  \n",
       "2                                     None  \n",
       "3                                     None  \n",
       "4                                     None  \n",
       "..                                     ...  \n",
       "422                                   None  \n",
       "423                                   None  \n",
       "424        https://www.isaacwasserman.com/  \n",
       "425                                   None  \n",
       "426  https://isaacwasserman.com/technology  \n",
       "\n",
       "[427 rows x 7 columns]"
      ]
     },
     "execution_count": 5,
     "metadata": {},
     "output_type": "execute_result"
    }
   ],
   "source": [
    "visits = deepcopy(response.data)\n",
    "visits_df = pd.DataFrame(visits)\n",
    "visits_df['created_at'] = pd.to_datetime(visits_df['created_at'])\n",
    "visits_df"
   ]
  },
  {
   "cell_type": "code",
   "execution_count": 6,
   "metadata": {},
   "outputs": [],
   "source": [
    "maximum_session_gap = 30\n",
    "sessions = []\n",
    "for ip_address in visits_df['ip_address'].unique():\n",
    "    visitors_visits = visits_df[visits_df['ip_address'] == ip_address]\n",
    "    visitors_visits = visitors_visits.sort_values('created_at')\n",
    "    session = []\n",
    "    for i in range(1, len(visitors_visits)):\n",
    "        if session == []:\n",
    "            session.append(visitors_visits.iloc[i])\n",
    "        previous_visit = session[-1]\n",
    "        current_visit = visitors_visits.iloc[i]\n",
    "        time_difference = (current_visit['created_at'] - previous_visit['created_at']).seconds / 60\n",
    "        if time_difference > maximum_session_gap:\n",
    "            sessions.append(session)\n",
    "            session = []\n",
    "        session.append(current_visit)\n",
    "    if session != []:\n",
    "        sessions.append(session)\n",
    "\n",
    "sessions_df = {\n",
    "    \"ip_address\": [],\n",
    "    \"start_time\": [],\n",
    "    \"end_time\": [],\n",
    "    \"visit_ids\": []\n",
    "}\n",
    "\n",
    "for session in sessions:\n",
    "    sessions_df[\"ip_address\"].append(session[0]['ip_address'])\n",
    "    sessions_df[\"start_time\"].append(session[0]['created_at'])\n",
    "    sessions_df[\"end_time\"].append(session[-1]['created_at'])\n",
    "    sessions_df[\"visit_ids\"].append([visit['id'] for visit in session])\n",
    "\n",
    "sessions_df = pd.DataFrame(sessions_df)"
   ]
  },
  {
   "cell_type": "code",
   "execution_count": 19,
   "metadata": {},
   "outputs": [
    {
     "name": "stderr",
     "output_type": "stream",
     "text": [
      "2024-03-03 15:47:30,911:INFO - HTTP Request: GET https://wvklzyidkkrskdgquocj.supabase.co/rest/v1/visitors?select=%2A \"HTTP/1.1 200 OK\"\n"
     ]
    }
   ],
   "source": [
    "response = client.table('visitors').select(\"*\").execute()\n",
    "visitors = deepcopy(response.data)"
   ]
  },
  {
   "cell_type": "code",
   "execution_count": 20,
   "metadata": {},
   "outputs": [
    {
     "name": "stderr",
     "output_type": "stream",
     "text": [
      "2024-03-03 15:47:32,314:INFO - HTTP Request: POST https://wvklzyidkkrskdgquocj.supabase.co/rest/v1/visitors \"HTTP/1.1 201 Created\"\n"
     ]
    }
   ],
   "source": [
    "visitors_df = pd.DataFrame(visitors)\n",
    "new_visitors = []\n",
    "ip_addresses_in_sessions = sessions_df['ip_address'].unique()\n",
    "for ip_address in ip_addresses_in_sessions:\n",
    "    if ip_address in visitors_df['ip_address'].values:\n",
    "        continue\n",
    "    ip_info = json.load(urlopen(f\"https://ipinfo.io/{ip_address}/json\"))\n",
    "    loc = ip_info.get('loc', None)\n",
    "    if loc:\n",
    "        lat, lon = loc.split(',')\n",
    "        ip_info['lat'] = float(lat)\n",
    "        ip_info['lon'] = float(lon)\n",
    "    else:\n",
    "        ip_info['lat'] = None\n",
    "        ip_info['lon'] = None\n",
    "    visitor = {\n",
    "        \"ip_address\": ip_address,\n",
    "        \"city\": ip_info.get('city', None),\n",
    "        \"region\": ip_info.get('region', None),\n",
    "        \"country\": ip_info.get('country', None),\n",
    "        \"postal\": ip_info.get('postal', None),\n",
    "        \"lat\": ip_info.get('lat', None),\n",
    "        \"lon\": ip_info.get('lon', None),\n",
    "        \"timezone\": ip_info.get('timezone', None),\n",
    "        \"hostname\": ip_info.get('hostname', None),\n",
    "        \"org\": ip_info.get('org', None),\n",
    "        \"is_bot\": visits_df[visits_df['ip_address'] == ip_address].iloc[-1]['is_bot']\n",
    "    }\n",
    "    new_visitors.append(visitor)\n",
    "\n",
    "response = client.table('visitors').insert(new_visitors).execute()"
   ]
  },
  {
   "cell_type": "code",
   "execution_count": 21,
   "metadata": {},
   "outputs": [
    {
     "data": {
      "text/plain": [
       "55"
      ]
     },
     "execution_count": 21,
     "metadata": {},
     "output_type": "execute_result"
    }
   ],
   "source": [
    "len(visitors_df)"
   ]
  },
  {
   "cell_type": "code",
   "execution_count": 25,
   "metadata": {},
   "outputs": [
    {
     "data": {
      "application/vnd.plotly.v1+json": {
       "config": {
        "plotlyServerURL": "https://plot.ly"
       },
       "data": [
        {
         "customdata": [
          [
           "Philadelphia",
           "",
           "c-76-99-220-36.hsd1.pa.comcast.net",
           "2024-02-29T01:09:16.473496+00:00",
           "2024-02-29T01:09:18.526439+00:00"
          ],
          [
           "Philadelphia",
           "",
           "c-76-99-220-36.hsd1.pa.comcast.net",
           "2024-03-01T19:44:04.134550+00:00",
           "2024-03-01T19:47:43.916932+00:00"
          ],
          [
           "Philadelphia",
           "",
           "c-76-99-220-36.hsd1.pa.comcast.net",
           "2024-03-01T20:45:51.541146+00:00",
           "2024-03-01T20:45:52.380918+00:00"
          ],
          [
           "Boardman",
           "",
           "ec2-34-211-133-176.us-west-2.compute.amazonaws.com",
           "2024-02-29T17:17:30.620366+00:00",
           "2024-02-29T17:17:30.620366+00:00"
          ],
          [
           "Amsterdam",
           "",
           "no-reverse-dns-configured.com",
           "2024-02-29T20:39:27.331476+00:00",
           "2024-02-29T20:39:27.331476+00:00"
          ],
          [
           "Bartlesville",
           "",
           "",
           "2024-03-01T00:13:39.418274+00:00",
           "2024-03-01T00:13:41.696474+00:00"
          ],
          [
           "Dallas",
           "",
           "",
           "2024-03-01T00:38:22.900125+00:00",
           "2024-03-01T00:38:23.991830+00:00"
          ],
          [
           null,
           "",
           "",
           "2024-02-29T01:09:56.447413+00:00",
           "2024-02-29T01:12:07.331389+00:00"
          ],
          [
           null,
           "",
           "",
           "2024-03-01T21:30:22.782549+00:00",
           "2024-03-01T21:30:22.782549+00:00"
          ],
          [
           "New York City",
           "",
           "ue.tmodns.net",
           "2024-03-01T15:59:38.586358+00:00",
           "2024-03-01T15:59:39.920748+00:00"
          ],
          [
           "East Harlem",
           "",
           "pool-96-224-10-228.nycmny.fios.verizon.net",
           "2024-03-01T17:46:43.843479+00:00",
           "2024-03-01T18:16:40.084728+00:00"
          ],
          [
           "Chester Heights",
           "",
           "pool-71-175-49-244.phlapa.fios.verizon.net",
           "2024-03-01T17:47:00.070236+00:00",
           "2024-03-01T18:13:32.430237+00:00"
          ],
          [
           "Washington",
           "",
           "",
           "2024-03-01T17:48:36.613937+00:00",
           "2024-03-01T17:48:36.872125+00:00"
          ],
          [
           "Washington",
           "",
           "",
           "2024-03-01T17:49:49.211215+00:00",
           "2024-03-01T17:49:49.325260+00:00"
          ],
          [
           "Washington",
           "",
           "",
           "2024-03-01T17:50:04.900328+00:00",
           "2024-03-01T17:50:06.253027+00:00"
          ],
          [
           "Des Moines",
           "",
           "",
           "2024-03-01T18:11:22.462967+00:00",
           "2024-03-01T18:12:34.734200+00:00"
          ],
          [
           "Philadelphia",
           "",
           "pool-71-175-163-154.phlapa.east.verizon.net",
           "2024-03-01T19:47:24.730054+00:00",
           "2024-03-01T19:53:49.523085+00:00"
          ],
          [
           "Coudersport",
           "",
           "",
           "2024-03-01T19:48:06.869391+00:00",
           "2024-03-01T19:49:13.676359+00:00"
          ],
          [
           "New York City",
           "",
           "",
           "2024-03-01T20:03:25.212781+00:00",
           "2024-03-01T20:05:45.614212+00:00"
          ],
          [
           "New York City",
           "",
           "",
           "2024-03-01T20:11:56.467924+00:00",
           "2024-03-01T20:12:46.559700+00:00"
          ],
          [
           "Bridgeton",
           "",
           "c-174-57-54-19.hsd1.nj.comcast.net",
           "2024-03-01T20:12:40.528862+00:00",
           "2024-03-01T20:12:40.780982+00:00"
          ],
          [
           "Bridgeton",
           "https://www.linkedin.com/",
           "c-174-57-54-19.hsd1.nj.comcast.net",
           "2024-03-02T13:26:26.320521+00:00",
           "2024-03-02T13:30:08.873503+00:00"
          ],
          [
           "Bridgeton",
           "",
           "c-73-197-50-4.hsd1.nj.comcast.net",
           "2024-03-01T20:43:17.061324+00:00",
           "2024-03-01T20:44:27.728273+00:00"
          ],
          [
           "Bridgeton",
           "",
           "c-73-197-50-4.hsd1.nj.comcast.net",
           "2024-03-02T04:06:57.305989+00:00",
           "2024-03-02T04:07:00.207723+00:00"
          ],
          [
           "Bridgeton",
           "",
           "c-73-197-50-4.hsd1.nj.comcast.net",
           "2024-03-02T22:18:10.971387+00:00",
           "2024-03-02T22:18:12.662688+00:00"
          ],
          [
           "Philadelphia",
           "",
           "",
           "2024-03-01T22:23:31.992595+00:00",
           "2024-03-01T22:23:32.215134+00:00"
          ]
         ],
         "hovertemplate": "<b>%{hovertext}</b><br><br>is_bot=False<br>lat=%{lat}<br>lon=%{lon}<br>city=%{customdata[0]}<br>referrer=%{customdata[1]}<br>hostname=%{customdata[2]}<br>start_time=%{customdata[3]}<br>end_time=%{customdata[4]}<extra></extra>",
         "hovertext": [
          "76.99.220.36",
          "76.99.220.36",
          "76.99.220.36",
          "34.211.133.176",
          "89.248.174.34",
          "205.169.39.163",
          "65.154.226.166",
          "127.0.0.1",
          "127.0.0.1",
          "172.56.34.211",
          "96.224.10.228",
          "71.175.49.244",
          "40.94.25.195",
          "40.94.25.153",
          "40.94.25.150",
          "20.12.213.197",
          "71.175.163.154",
          "24.51.150.162",
          "104.28.55.228",
          "104.28.55.235",
          "174.57.54.19",
          "174.57.54.19",
          "73.197.50.4",
          "73.197.50.4",
          "73.197.50.4",
          "107.115.17.6"
         ],
         "lat": [
          39.9524,
          39.9524,
          39.9524,
          45.8399,
          52.374,
          36.7473,
          32.7831,
          null,
          null,
          40.7143,
          40.7947,
          39.8901,
          38.7135,
          38.7135,
          38.7135,
          41.6005,
          39.9524,
          41.7748,
          40.7143,
          40.7143,
          39.4273,
          39.4273,
          39.4273,
          39.4273,
          39.4273,
          39.9524
         ],
         "legendgroup": "False",
         "lon": [
          -75.1636,
          -75.1636,
          -75.1636,
          -119.701,
          4.8897,
          -95.9808,
          -96.8067,
          null,
          null,
          -74.006,
          -73.9425,
          -75.4755,
          -78.1594,
          -78.1594,
          -78.1594,
          -93.6091,
          -75.1636,
          -78.0206,
          -74.006,
          -74.006,
          -75.2341,
          -75.2341,
          -75.2341,
          -75.2341,
          -75.2341,
          -75.1636
         ],
         "marker": {
          "color": "#636efa"
         },
         "mode": "markers",
         "name": "False",
         "showlegend": true,
         "subplot": "mapbox",
         "type": "scattermapbox"
        },
        {
         "customdata": [
          [
           "Amsterdam",
           "",
           "no-reverse-dns-configured.com",
           "2024-03-02T09:30:17.962480+00:00",
           "2024-03-02T09:30:18.786444+00:00"
          ],
          [
           "The Dalles",
           "",
           "crawl-66-249-79-134.googlebot.com",
           "2024-02-28T21:09:42.158500+00:00",
           "2024-02-28T21:09:42.158500+00:00"
          ],
          [
           "The Dalles",
           "",
           "crawl-66-249-79-132.googlebot.com",
           "2024-02-28T23:29:14.858221+00:00",
           "2024-02-28T23:29:14.858221+00:00"
          ],
          [
           "The Dalles",
           "",
           "crawl-66-249-79-132.googlebot.com",
           "2024-02-29T09:12:55.898838+00:00",
           "2024-02-29T09:12:55.898838+00:00"
          ],
          [
           "Seattle",
           "",
           "",
           "2024-02-29T20:44:16.774835+00:00",
           "2024-02-29T20:44:16.774835+00:00"
          ],
          [
           "Raleigh",
           "",
           "crawl-66-249-66-38.googlebot.com",
           "2024-02-29T22:10:30.703374+00:00",
           "2024-02-29T22:10:30.703374+00:00"
          ],
          [
           "Raleigh",
           "",
           "crawl-66-249-66-38.googlebot.com",
           "2024-03-01T04:19:58.767135+00:00",
           "2024-03-01T04:19:58.767135+00:00"
          ],
          [
           "Raleigh",
           "",
           "crawl-66-249-66-38.googlebot.com",
           "2024-03-02T13:01:43.976734+00:00",
           "2024-03-02T13:01:43.976734+00:00"
          ],
          [
           "Raleigh",
           "",
           "crawl-66-249-66-38.googlebot.com",
           "2024-03-03T01:24:43.955507+00:00",
           "2024-03-03T01:24:43.955507+00:00"
          ],
          [
           "Raleigh",
           "",
           "crawl-66-249-66-38.googlebot.com",
           "2024-03-03T04:15:27.538716+00:00",
           "2024-03-03T04:15:27.538716+00:00"
          ],
          [
           "Raleigh",
           "",
           "crawl-66-249-66-38.googlebot.com",
           "2024-03-03T09:26:19.674054+00:00",
           "2024-03-03T10:11:19.676651+00:00"
          ],
          [
           "Raleigh",
           "",
           "crawl-66-249-66-37.googlebot.com",
           "2024-03-01T03:27:40.548325+00:00",
           "2024-03-01T03:34:57.994692+00:00"
          ],
          [
           "Raleigh",
           "",
           "crawl-66-249-66-37.googlebot.com",
           "2024-03-01T08:10:32.620448+00:00",
           "2024-03-01T08:10:32.620448+00:00"
          ],
          [
           "Raleigh",
           "",
           "crawl-66-249-66-37.googlebot.com",
           "2024-03-01T08:55:32.506078+00:00",
           "2024-03-01T08:55:32.506078+00:00"
          ],
          [
           "Raleigh",
           "",
           "crawl-66-249-66-37.googlebot.com",
           "2024-03-03T03:00:27.914908+00:00",
           "2024-03-03T03:00:27.914908+00:00"
          ],
          [
           "Raleigh",
           "",
           "crawl-66-249-66-37.googlebot.com",
           "2024-03-03T11:27:56.768057+00:00",
           "2024-03-03T11:27:56.768057+00:00"
          ],
          [
           "Raleigh",
           "",
           "crawl-66-249-66-36.googlebot.com",
           "2024-03-01T06:10:31.455731+00:00",
           "2024-03-01T06:10:31.455731+00:00"
          ],
          [
           "Raleigh",
           "",
           "crawl-66-249-66-36.googlebot.com",
           "2024-03-02T23:54:45.573579+00:00",
           "2024-03-02T23:54:45.573579+00:00"
          ],
          [
           "Raleigh",
           "",
           "crawl-66-249-66-36.googlebot.com",
           "2024-03-03T02:09:45.083546+00:00",
           "2024-03-03T02:09:45.083546+00:00"
          ],
          [
           "Raleigh",
           "",
           "crawl-66-249-66-36.googlebot.com",
           "2024-03-03T04:11:17.837966+00:00",
           "2024-03-03T04:11:17.837966+00:00"
          ],
          [
           "Kansas City",
           "",
           "",
           "2024-03-03T12:11:14.399702+00:00",
           "2024-03-03T12:11:14.399702+00:00"
          ],
          [
           "Warsaw",
           "http://isaacwasserman.com/",
           "",
           "2024-03-02T13:22:37.779594+00:00",
           "2024-03-02T13:22:37.779594+00:00"
          ],
          [
           "Singapore",
           "",
           "petalbot-114-119-139-26.petalsearch.com",
           "2024-03-01T16:06:15.170411+00:00",
           "2024-03-01T16:06:15.170411+00:00"
          ],
          [
           "Singapore",
           "https://isaacwasserman.com/technology",
           "petalbot-114-119-139-26.petalsearch.com",
           "2024-03-03T18:54:52.117245+00:00",
           "2024-03-03T18:54:52.117245+00:00"
          ],
          [
           "Tulsa",
           "",
           "crawl-66-249-73-128.googlebot.com",
           "2024-03-01T17:58:41.117368+00:00",
           "2024-03-01T18:16:39.486819+00:00"
          ],
          [
           "Tulsa",
           "",
           "crawl-66-249-73-128.googlebot.com",
           "2024-03-01T21:53:47.610282+00:00",
           "2024-03-01T21:53:47.610282+00:00"
          ],
          [
           "Tulsa",
           "",
           "crawl-66-249-73-128.googlebot.com",
           "2024-03-01T23:10:45.535531+00:00",
           "2024-03-01T23:10:45.535531+00:00"
          ],
          [
           "Moses Lake",
           "",
           "",
           "2024-03-01T18:10:37.636477+00:00",
           "2024-03-01T18:10:37.636477+00:00"
          ],
          [
           "Tulsa",
           "",
           "crawl-66-249-73-129.googlebot.com",
           "2024-03-02T00:18:13.881431+00:00",
           "2024-03-02T00:18:13.881431+00:00"
          ],
          [
           "Tulsa",
           "",
           "crawl-66-249-73-129.googlebot.com",
           "2024-03-02T05:17:50.439938+00:00",
           "2024-03-02T05:17:50.439938+00:00"
          ],
          [
           "Tulsa",
           "",
           "crawl-66-249-73-129.googlebot.com",
           "2024-03-02T06:02:48.949556+00:00",
           "2024-03-02T06:02:48.949556+00:00"
          ],
          [
           "Tulsa",
           "",
           "crawl-66-249-73-129.googlebot.com",
           "2024-03-02T09:10:49.492708+00:00",
           "2024-03-02T09:10:49.492708+00:00"
          ],
          [
           "Tulsa",
           "",
           "crawl-66-249-73-132.googlebot.com",
           "2024-03-01T23:33:13.749665+00:00",
           "2024-03-01T23:55:43.449517+00:00"
          ],
          [
           "Tulsa",
           "",
           "crawl-66-249-73-132.googlebot.com",
           "2024-03-02T07:40:49.061515+00:00",
           "2024-03-02T07:40:49.061515+00:00"
          ],
          [
           "Tulsa",
           "",
           "crawl-66-249-73-132.googlebot.com",
           "2024-03-02T08:25:48.792544+00:00",
           "2024-03-02T08:25:48.792544+00:00"
          ],
          [
           "Singapore",
           "https://isaacwasserman.com/technology",
           "petalbot-114-119-135-163.petalsearch.com",
           "2024-03-02T15:58:38.352015+00:00",
           "2024-03-02T15:58:38.352015+00:00"
          ],
          [
           "Singapore",
           "https://isaacwasserman.com/technology",
           "petalbot-114-119-143-187.petalsearch.com",
           "2024-03-02T13:13:01.384407+00:00",
           "2024-03-02T13:13:01.384407+00:00"
          ],
          [
           "Singapore",
           "https://isaacwasserman.com/technology",
           "petalbot-114-119-157-234.petalsearch.com",
           "2024-03-02T13:10:25.685922+00:00",
           "2024-03-02T13:10:25.685922+00:00"
          ],
          [
           "Singapore",
           "https://isaacwasserman.com/technology",
           "petalbot-114-119-157-234.petalsearch.com",
           "2024-03-03T09:55:54.491991+00:00",
           "2024-03-03T09:55:54.491991+00:00"
          ],
          [
           "Montabaur",
           "",
           "crawlbs12.1and1.org",
           "2024-03-03T06:00:50.949917+00:00",
           "2024-03-03T06:05:19.720689+00:00"
          ],
          [
           "Haarlem",
           "",
           "allearningresearch.com",
           "2024-03-02T14:13:59.335426+00:00",
           "2024-03-02T14:13:59.335426+00:00"
          ],
          [
           "Montabaur",
           "",
           "crawlbs28.1and1.org",
           "2024-03-03T06:05:07.898178+00:00",
           "2024-03-03T06:05:16.142512+00:00"
          ],
          [
           "Montabaur",
           "",
           "crawlbs44.1and1.org",
           "2024-03-03T06:05:14.526993+00:00",
           "2024-03-03T06:05:14.526993+00:00"
          ],
          [
           "Montabaur",
           "",
           "crawlbs76.1and1.org",
           "2024-03-03T06:05:08.112411+00:00",
           "2024-03-03T06:05:10.092661+00:00"
          ],
          [
           "Montabaur",
           "",
           "crawlbs60.1and1.org",
           "2024-03-03T06:05:17.157498+00:00",
           "2024-03-03T06:05:17.157498+00:00"
          ],
          [
           "Amsterdam",
           "",
           "no-reverse-dns-configured.com",
           "2024-03-03T11:11:41.571232+00:00",
           "2024-03-03T11:11:41.571232+00:00"
          ]
         ],
         "hovertemplate": "<b>%{hovertext}</b><br><br>is_bot=True<br>lat=%{lat}<br>lon=%{lon}<br>city=%{customdata[0]}<br>referrer=%{customdata[1]}<br>hostname=%{customdata[2]}<br>start_time=%{customdata[3]}<br>end_time=%{customdata[4]}<extra></extra>",
         "hovertext": [
          "89.248.174.42",
          "66.249.79.134",
          "66.249.79.132",
          "66.249.79.132",
          "216.244.66.228",
          "66.249.66.38",
          "66.249.66.38",
          "66.249.66.38",
          "66.249.66.38",
          "66.249.66.38",
          "66.249.66.38",
          "66.249.66.37",
          "66.249.66.37",
          "66.249.66.37",
          "66.249.66.37",
          "66.249.66.37",
          "66.249.66.36",
          "66.249.66.36",
          "66.249.66.36",
          "66.249.66.36",
          "66.36.234.130",
          "185.241.208.88",
          "114.119.139.26",
          "114.119.139.26",
          "66.249.73.128",
          "66.249.73.128",
          "66.249.73.128",
          "104.47.66.126",
          "66.249.73.129",
          "66.249.73.129",
          "66.249.73.129",
          "66.249.73.129",
          "66.249.73.132",
          "66.249.73.132",
          "66.249.73.132",
          "114.119.135.163",
          "114.119.143.187",
          "114.119.157.234",
          "114.119.157.234",
          "82.165.224.13",
          "89.248.172.92",
          "82.165.224.29",
          "82.165.224.45",
          "82.165.224.77",
          "82.165.224.61",
          "93.174.93.215"
         ],
         "lat": [
          52.374,
          45.5946,
          45.5946,
          45.5946,
          47.6062,
          35.7721,
          35.7721,
          35.7721,
          35.7721,
          35.7721,
          35.7721,
          35.7721,
          35.7721,
          35.7721,
          35.7721,
          35.7721,
          35.7721,
          35.7721,
          35.7721,
          35.7721,
          39.0997,
          52.2298,
          1.3557,
          1.3557,
          36.154,
          36.154,
          36.154,
          47.1301,
          36.154,
          36.154,
          36.154,
          36.154,
          36.154,
          36.154,
          36.154,
          1.3557,
          1.3557,
          1.3557,
          1.3557,
          50.4359,
          52.3808,
          50.4359,
          50.4359,
          50.4359,
          50.4359,
          52.374
         ],
         "legendgroup": "True",
         "lon": [
          4.8897,
          -121.179,
          -121.179,
          -121.179,
          -122.332,
          -78.6386,
          -78.6386,
          -78.6386,
          -78.6386,
          -78.6386,
          -78.6386,
          -78.6386,
          -78.6386,
          -78.6386,
          -78.6386,
          -78.6386,
          -78.6386,
          -78.6386,
          -78.6386,
          -78.6386,
          -94.5786,
          21.0118,
          103.824,
          103.824,
          -95.9928,
          -95.9928,
          -95.9928,
          -119.278,
          -95.9928,
          -95.9928,
          -95.9928,
          -95.9928,
          -95.9928,
          -95.9928,
          -95.9928,
          103.824,
          103.824,
          103.824,
          103.824,
          7.8232,
          4.6368,
          7.8232,
          7.8232,
          7.8232,
          7.8232,
          4.8897
         ],
         "marker": {
          "color": "#EF553B"
         },
         "mode": "markers",
         "name": "True",
         "showlegend": true,
         "subplot": "mapbox",
         "type": "scattermapbox"
        }
       ],
       "layout": {
        "legend": {
         "title": {
          "text": "is_bot"
         },
         "tracegroupgap": 0
        },
        "mapbox": {
         "accesstoken": "pk.eyJ1IjoiaXNhYWNpcyIsImEiOiJja3FpYXBkejQxeWEyMm9taTlwbmY0azM0In0.3DAzKo5Gihi-bw_eJdZneA",
         "center": {
          "lat": 37.21999857142857,
          "lon": -56.841082857142844
         },
         "domain": {
          "x": [
           0,
           1
          ],
          "y": [
           0,
           1
          ]
         },
         "style": "open-street-map",
         "zoom": 1
        },
        "margin": {
         "t": 60
        },
        "template": {
         "data": {
          "bar": [
           {
            "error_x": {
             "color": "#2a3f5f"
            },
            "error_y": {
             "color": "#2a3f5f"
            },
            "marker": {
             "line": {
              "color": "#E5ECF6",
              "width": 0.5
             },
             "pattern": {
              "fillmode": "overlay",
              "size": 10,
              "solidity": 0.2
             }
            },
            "type": "bar"
           }
          ],
          "barpolar": [
           {
            "marker": {
             "line": {
              "color": "#E5ECF6",
              "width": 0.5
             },
             "pattern": {
              "fillmode": "overlay",
              "size": 10,
              "solidity": 0.2
             }
            },
            "type": "barpolar"
           }
          ],
          "carpet": [
           {
            "aaxis": {
             "endlinecolor": "#2a3f5f",
             "gridcolor": "white",
             "linecolor": "white",
             "minorgridcolor": "white",
             "startlinecolor": "#2a3f5f"
            },
            "baxis": {
             "endlinecolor": "#2a3f5f",
             "gridcolor": "white",
             "linecolor": "white",
             "minorgridcolor": "white",
             "startlinecolor": "#2a3f5f"
            },
            "type": "carpet"
           }
          ],
          "choropleth": [
           {
            "colorbar": {
             "outlinewidth": 0,
             "ticks": ""
            },
            "type": "choropleth"
           }
          ],
          "contour": [
           {
            "colorbar": {
             "outlinewidth": 0,
             "ticks": ""
            },
            "colorscale": [
             [
              0,
              "#0d0887"
             ],
             [
              0.1111111111111111,
              "#46039f"
             ],
             [
              0.2222222222222222,
              "#7201a8"
             ],
             [
              0.3333333333333333,
              "#9c179e"
             ],
             [
              0.4444444444444444,
              "#bd3786"
             ],
             [
              0.5555555555555556,
              "#d8576b"
             ],
             [
              0.6666666666666666,
              "#ed7953"
             ],
             [
              0.7777777777777778,
              "#fb9f3a"
             ],
             [
              0.8888888888888888,
              "#fdca26"
             ],
             [
              1,
              "#f0f921"
             ]
            ],
            "type": "contour"
           }
          ],
          "contourcarpet": [
           {
            "colorbar": {
             "outlinewidth": 0,
             "ticks": ""
            },
            "type": "contourcarpet"
           }
          ],
          "heatmap": [
           {
            "colorbar": {
             "outlinewidth": 0,
             "ticks": ""
            },
            "colorscale": [
             [
              0,
              "#0d0887"
             ],
             [
              0.1111111111111111,
              "#46039f"
             ],
             [
              0.2222222222222222,
              "#7201a8"
             ],
             [
              0.3333333333333333,
              "#9c179e"
             ],
             [
              0.4444444444444444,
              "#bd3786"
             ],
             [
              0.5555555555555556,
              "#d8576b"
             ],
             [
              0.6666666666666666,
              "#ed7953"
             ],
             [
              0.7777777777777778,
              "#fb9f3a"
             ],
             [
              0.8888888888888888,
              "#fdca26"
             ],
             [
              1,
              "#f0f921"
             ]
            ],
            "type": "heatmap"
           }
          ],
          "heatmapgl": [
           {
            "colorbar": {
             "outlinewidth": 0,
             "ticks": ""
            },
            "colorscale": [
             [
              0,
              "#0d0887"
             ],
             [
              0.1111111111111111,
              "#46039f"
             ],
             [
              0.2222222222222222,
              "#7201a8"
             ],
             [
              0.3333333333333333,
              "#9c179e"
             ],
             [
              0.4444444444444444,
              "#bd3786"
             ],
             [
              0.5555555555555556,
              "#d8576b"
             ],
             [
              0.6666666666666666,
              "#ed7953"
             ],
             [
              0.7777777777777778,
              "#fb9f3a"
             ],
             [
              0.8888888888888888,
              "#fdca26"
             ],
             [
              1,
              "#f0f921"
             ]
            ],
            "type": "heatmapgl"
           }
          ],
          "histogram": [
           {
            "marker": {
             "pattern": {
              "fillmode": "overlay",
              "size": 10,
              "solidity": 0.2
             }
            },
            "type": "histogram"
           }
          ],
          "histogram2d": [
           {
            "colorbar": {
             "outlinewidth": 0,
             "ticks": ""
            },
            "colorscale": [
             [
              0,
              "#0d0887"
             ],
             [
              0.1111111111111111,
              "#46039f"
             ],
             [
              0.2222222222222222,
              "#7201a8"
             ],
             [
              0.3333333333333333,
              "#9c179e"
             ],
             [
              0.4444444444444444,
              "#bd3786"
             ],
             [
              0.5555555555555556,
              "#d8576b"
             ],
             [
              0.6666666666666666,
              "#ed7953"
             ],
             [
              0.7777777777777778,
              "#fb9f3a"
             ],
             [
              0.8888888888888888,
              "#fdca26"
             ],
             [
              1,
              "#f0f921"
             ]
            ],
            "type": "histogram2d"
           }
          ],
          "histogram2dcontour": [
           {
            "colorbar": {
             "outlinewidth": 0,
             "ticks": ""
            },
            "colorscale": [
             [
              0,
              "#0d0887"
             ],
             [
              0.1111111111111111,
              "#46039f"
             ],
             [
              0.2222222222222222,
              "#7201a8"
             ],
             [
              0.3333333333333333,
              "#9c179e"
             ],
             [
              0.4444444444444444,
              "#bd3786"
             ],
             [
              0.5555555555555556,
              "#d8576b"
             ],
             [
              0.6666666666666666,
              "#ed7953"
             ],
             [
              0.7777777777777778,
              "#fb9f3a"
             ],
             [
              0.8888888888888888,
              "#fdca26"
             ],
             [
              1,
              "#f0f921"
             ]
            ],
            "type": "histogram2dcontour"
           }
          ],
          "mesh3d": [
           {
            "colorbar": {
             "outlinewidth": 0,
             "ticks": ""
            },
            "type": "mesh3d"
           }
          ],
          "parcoords": [
           {
            "line": {
             "colorbar": {
              "outlinewidth": 0,
              "ticks": ""
             }
            },
            "type": "parcoords"
           }
          ],
          "pie": [
           {
            "automargin": true,
            "type": "pie"
           }
          ],
          "scatter": [
           {
            "fillpattern": {
             "fillmode": "overlay",
             "size": 10,
             "solidity": 0.2
            },
            "type": "scatter"
           }
          ],
          "scatter3d": [
           {
            "line": {
             "colorbar": {
              "outlinewidth": 0,
              "ticks": ""
             }
            },
            "marker": {
             "colorbar": {
              "outlinewidth": 0,
              "ticks": ""
             }
            },
            "type": "scatter3d"
           }
          ],
          "scattercarpet": [
           {
            "marker": {
             "colorbar": {
              "outlinewidth": 0,
              "ticks": ""
             }
            },
            "type": "scattercarpet"
           }
          ],
          "scattergeo": [
           {
            "marker": {
             "colorbar": {
              "outlinewidth": 0,
              "ticks": ""
             }
            },
            "type": "scattergeo"
           }
          ],
          "scattergl": [
           {
            "marker": {
             "colorbar": {
              "outlinewidth": 0,
              "ticks": ""
             }
            },
            "type": "scattergl"
           }
          ],
          "scattermapbox": [
           {
            "marker": {
             "colorbar": {
              "outlinewidth": 0,
              "ticks": ""
             }
            },
            "type": "scattermapbox"
           }
          ],
          "scatterpolar": [
           {
            "marker": {
             "colorbar": {
              "outlinewidth": 0,
              "ticks": ""
             }
            },
            "type": "scatterpolar"
           }
          ],
          "scatterpolargl": [
           {
            "marker": {
             "colorbar": {
              "outlinewidth": 0,
              "ticks": ""
             }
            },
            "type": "scatterpolargl"
           }
          ],
          "scatterternary": [
           {
            "marker": {
             "colorbar": {
              "outlinewidth": 0,
              "ticks": ""
             }
            },
            "type": "scatterternary"
           }
          ],
          "surface": [
           {
            "colorbar": {
             "outlinewidth": 0,
             "ticks": ""
            },
            "colorscale": [
             [
              0,
              "#0d0887"
             ],
             [
              0.1111111111111111,
              "#46039f"
             ],
             [
              0.2222222222222222,
              "#7201a8"
             ],
             [
              0.3333333333333333,
              "#9c179e"
             ],
             [
              0.4444444444444444,
              "#bd3786"
             ],
             [
              0.5555555555555556,
              "#d8576b"
             ],
             [
              0.6666666666666666,
              "#ed7953"
             ],
             [
              0.7777777777777778,
              "#fb9f3a"
             ],
             [
              0.8888888888888888,
              "#fdca26"
             ],
             [
              1,
              "#f0f921"
             ]
            ],
            "type": "surface"
           }
          ],
          "table": [
           {
            "cells": {
             "fill": {
              "color": "#EBF0F8"
             },
             "line": {
              "color": "white"
             }
            },
            "header": {
             "fill": {
              "color": "#C8D4E3"
             },
             "line": {
              "color": "white"
             }
            },
            "type": "table"
           }
          ]
         },
         "layout": {
          "annotationdefaults": {
           "arrowcolor": "#2a3f5f",
           "arrowhead": 0,
           "arrowwidth": 1
          },
          "autotypenumbers": "strict",
          "coloraxis": {
           "colorbar": {
            "outlinewidth": 0,
            "ticks": ""
           }
          },
          "colorscale": {
           "diverging": [
            [
             0,
             "#8e0152"
            ],
            [
             0.1,
             "#c51b7d"
            ],
            [
             0.2,
             "#de77ae"
            ],
            [
             0.3,
             "#f1b6da"
            ],
            [
             0.4,
             "#fde0ef"
            ],
            [
             0.5,
             "#f7f7f7"
            ],
            [
             0.6,
             "#e6f5d0"
            ],
            [
             0.7,
             "#b8e186"
            ],
            [
             0.8,
             "#7fbc41"
            ],
            [
             0.9,
             "#4d9221"
            ],
            [
             1,
             "#276419"
            ]
           ],
           "sequential": [
            [
             0,
             "#0d0887"
            ],
            [
             0.1111111111111111,
             "#46039f"
            ],
            [
             0.2222222222222222,
             "#7201a8"
            ],
            [
             0.3333333333333333,
             "#9c179e"
            ],
            [
             0.4444444444444444,
             "#bd3786"
            ],
            [
             0.5555555555555556,
             "#d8576b"
            ],
            [
             0.6666666666666666,
             "#ed7953"
            ],
            [
             0.7777777777777778,
             "#fb9f3a"
            ],
            [
             0.8888888888888888,
             "#fdca26"
            ],
            [
             1,
             "#f0f921"
            ]
           ],
           "sequentialminus": [
            [
             0,
             "#0d0887"
            ],
            [
             0.1111111111111111,
             "#46039f"
            ],
            [
             0.2222222222222222,
             "#7201a8"
            ],
            [
             0.3333333333333333,
             "#9c179e"
            ],
            [
             0.4444444444444444,
             "#bd3786"
            ],
            [
             0.5555555555555556,
             "#d8576b"
            ],
            [
             0.6666666666666666,
             "#ed7953"
            ],
            [
             0.7777777777777778,
             "#fb9f3a"
            ],
            [
             0.8888888888888888,
             "#fdca26"
            ],
            [
             1,
             "#f0f921"
            ]
           ]
          },
          "colorway": [
           "#636efa",
           "#EF553B",
           "#00cc96",
           "#ab63fa",
           "#FFA15A",
           "#19d3f3",
           "#FF6692",
           "#B6E880",
           "#FF97FF",
           "#FECB52"
          ],
          "font": {
           "color": "#2a3f5f"
          },
          "geo": {
           "bgcolor": "white",
           "lakecolor": "white",
           "landcolor": "#E5ECF6",
           "showlakes": true,
           "showland": true,
           "subunitcolor": "white"
          },
          "hoverlabel": {
           "align": "left"
          },
          "hovermode": "closest",
          "mapbox": {
           "style": "light"
          },
          "paper_bgcolor": "white",
          "plot_bgcolor": "#E5ECF6",
          "polar": {
           "angularaxis": {
            "gridcolor": "white",
            "linecolor": "white",
            "ticks": ""
           },
           "bgcolor": "#E5ECF6",
           "radialaxis": {
            "gridcolor": "white",
            "linecolor": "white",
            "ticks": ""
           }
          },
          "scene": {
           "xaxis": {
            "backgroundcolor": "#E5ECF6",
            "gridcolor": "white",
            "gridwidth": 2,
            "linecolor": "white",
            "showbackground": true,
            "ticks": "",
            "zerolinecolor": "white"
           },
           "yaxis": {
            "backgroundcolor": "#E5ECF6",
            "gridcolor": "white",
            "gridwidth": 2,
            "linecolor": "white",
            "showbackground": true,
            "ticks": "",
            "zerolinecolor": "white"
           },
           "zaxis": {
            "backgroundcolor": "#E5ECF6",
            "gridcolor": "white",
            "gridwidth": 2,
            "linecolor": "white",
            "showbackground": true,
            "ticks": "",
            "zerolinecolor": "white"
           }
          },
          "shapedefaults": {
           "line": {
            "color": "#2a3f5f"
           }
          },
          "ternary": {
           "aaxis": {
            "gridcolor": "white",
            "linecolor": "white",
            "ticks": ""
           },
           "baxis": {
            "gridcolor": "white",
            "linecolor": "white",
            "ticks": ""
           },
           "bgcolor": "#E5ECF6",
           "caxis": {
            "gridcolor": "white",
            "linecolor": "white",
            "ticks": ""
           }
          },
          "title": {
           "x": 0.05
          },
          "xaxis": {
           "automargin": true,
           "gridcolor": "white",
           "linecolor": "white",
           "ticks": "",
           "title": {
            "standoff": 15
           },
           "zerolinecolor": "white",
           "zerolinewidth": 2
          },
          "yaxis": {
           "automargin": true,
           "gridcolor": "white",
           "linecolor": "white",
           "ticks": "",
           "title": {
            "standoff": 15
           },
           "zerolinecolor": "white",
           "zerolinewidth": 2
          }
         }
        }
       }
      }
     },
     "metadata": {},
     "output_type": "display_data"
    }
   ],
   "source": [
    "dots_df = sessions_df.copy()\n",
    "dots_df['lat'] = None\n",
    "dots_df['lon'] = None\n",
    "dots_df['city'] = None\n",
    "dots_df['is_bot'] = None\n",
    "dots_df['referrer'] = None\n",
    "dots_df['hostname'] = None\n",
    "for i, row in dots_df.iterrows():\n",
    "    lat = visitors_df[visitors_df['ip_address'] == row['ip_address']].iloc[0]['lat']\n",
    "    lon = visitors_df[visitors_df['ip_address'] == row['ip_address']].iloc[0]['lon']\n",
    "    city = visitors_df[visitors_df['ip_address'] == row['ip_address']].iloc[0]['city']\n",
    "    is_bot = visitors_df[visitors_df['ip_address'] == row['ip_address']].iloc[0]['is_bot']\n",
    "    referrer = visits_df[visits_df['id'].isin(row['visit_ids'])].iloc[0]['referrer']\n",
    "    hostname = visitors_df[visitors_df['ip_address'] == row['ip_address']].iloc[0]['hostname']\n",
    "    dots_df.at[i, 'lat'] = lat\n",
    "    dots_df.at[i, 'lon'] = lon\n",
    "    dots_df.at[i, 'city'] = city\n",
    "    dots_df.at[i, 'is_bot'] = is_bot\n",
    "    if not referrer:\n",
    "        referrer = \"\"\n",
    "    dots_df.at[i, 'referrer'] = referrer\n",
    "    if not hostname:\n",
    "        hostname = \"\"\n",
    "    dots_df.at[i, 'hostname'] = hostname\n",
    "\n",
    "num_last_days = 4\n",
    "\n",
    "dots_df['start_time'] = pd.to_datetime(dots_df['start_time'])\n",
    "timezone = dots_df['start_time'].dt.tz\n",
    "seven_days_ago = datetime.now(timezone) - timedelta(days=num_last_days)\n",
    "dots_df = dots_df[dots_df['start_time'] > seven_days_ago]\n",
    "\n",
    "fig = px.scatter_mapbox(dots_df, lat=\"lat\", lon=\"lon\", color=\"is_bot\", hover_name=\"ip_address\", hover_data=[\"city\", \"referrer\", \"hostname\", \"start_time\", \"end_time\",], zoom=1)\n",
    "fig.update_layout(mapbox_style=\"open-street-map\")\n",
    "fig.show()"
   ]
  }
 ],
 "metadata": {
  "kernelspec": {
   "display_name": "pytorch",
   "language": "python",
   "name": "python3"
  },
  "language_info": {
   "codemirror_mode": {
    "name": "ipython",
    "version": 3
   },
   "file_extension": ".py",
   "mimetype": "text/x-python",
   "name": "python",
   "nbconvert_exporter": "python",
   "pygments_lexer": "ipython3",
   "version": "3.10.9"
  }
 },
 "nbformat": 4,
 "nbformat_minor": 2
}
