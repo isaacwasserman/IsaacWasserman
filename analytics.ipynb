{
 "cells": [
  {
   "cell_type": "code",
   "execution_count": 1,
   "metadata": {},
   "outputs": [],
   "source": [
    "import os\n",
    "import dotenv\n",
    "dotenv.load_dotenv(\".env.local\")\n",
    "\n",
    "from supabase import create_client, Client\n",
    "import time\n",
    "from copy import deepcopy\n",
    "\n",
    "import re\n",
    "import json\n",
    "from urllib.request import urlopen\n",
    "import requests\n",
    "import pandas as pd\n",
    "import plotly.express as px\n",
    "px.set_mapbox_access_token(os.environ[\"MAPBOX_TOKEN\"])"
   ]
  },
  {
   "cell_type": "code",
   "execution_count": 2,
   "metadata": {},
   "outputs": [
    {
     "name": "stderr",
     "output_type": "stream",
     "text": [
      "2024-02-28 18:32:22,203:INFO - HTTP Request: GET https://wvklzyidkkrskdgquocj.supabase.co/rest/v1/visits?select=%2A \"HTTP/1.1 200 OK\"\n"
     ]
    }
   ],
   "source": [
    "client = create_client(\"https://wvklzyidkkrskdgquocj.supabase.co\", os.environ[\"SUPABASE_KEY\"])\n",
    "response = client.table('visits').select(\"*\").execute()"
   ]
  },
  {
   "cell_type": "code",
   "execution_count": 3,
   "metadata": {},
   "outputs": [],
   "source": [
    "visits = deepcopy(response.data)\n",
    "\n",
    "visits_by_visitor = {}\n",
    "for visit in visits:\n",
    "    visitor = visit[\"ip_address\"]\n",
    "    # Convert time string to timestamp (in seconds) (original format 2024-02-27T04:33:45.574632+00:00)\n",
    "    visit[\"created_at\"] = time.mktime(time.strptime(visit[\"created_at\"], \"%Y-%m-%dT%H:%M:%S.%f%z\"))\n",
    "    if visitor not in visits_by_visitor:\n",
    "        visits_by_visitor[visitor] = []\n",
    "    visits_by_visitor[visitor].append(visit)\n",
    "\n",
    "for visitor, visits in visits_by_visitor.items():\n",
    "    visits_by_visitor[visitor] = sorted(visits, key=lambda x: x[\"created_at\"])\n",
    "\n",
    "sessions_by_visitor = {}\n",
    "for visitor, visits in visits_by_visitor.items():\n",
    "    sessions = []\n",
    "    current_session = []\n",
    "    for visit in visits:\n",
    "        if len(current_session) == 0:\n",
    "            current_session.append(visit)\n",
    "            continue\n",
    "        last_visit = current_session[-1]\n",
    "        if visit[\"created_at\"] - last_visit[\"created_at\"] > 60 * 10:\n",
    "            sessions.append(current_session)\n",
    "            current_session = []\n",
    "        current_session.append(visit)\n",
    "    if len(current_session) > 0:\n",
    "        sessions.append(current_session)\n",
    "    sessions_by_visitor[visitor] = sessions"
   ]
  },
  {
   "cell_type": "code",
   "execution_count": 4,
   "metadata": {},
   "outputs": [
    {
     "name": "stdout",
     "output_type": "stream",
     "text": [
      "121.0.0.1 : 2\n",
      "64.23.187.48 : 1\n",
      "172.69.23.187 : 1\n",
      "76.99.220.36 : 3\n",
      "172.69.22.42 : 1\n",
      "172.69.23.220 : 1\n",
      "140.99.83.129 : 1\n",
      "192.71.10.105 : 1\n",
      "89.248.174.42 : 1\n",
      "178.254.12.183 : 1\n",
      "203.2.64.59 : 1\n",
      "72.13.46.5 : 1\n",
      "34.235.141.218 : 1\n",
      "114.119.134.208 : 1\n",
      "159.223.154.247 : 1\n",
      "179.33.147.80 : 1\n",
      "104.28.79.177 : 1\n",
      "108.174.2.214 : 1\n",
      "195.191.219.131 : 1\n",
      "139.190.224.16 : 1\n",
      "104.234.133.157 : 1\n",
      "45.94.31.129 : 1\n",
      "17.241.219.109 : 1\n",
      "66.249.79.134 : 2\n",
      "66.249.79.132 : 3\n",
      "35.195.93.98 : 1\n",
      "3.224.220.101 : 1\n",
      "23.22.35.162 : 1\n",
      "216.244.66.228 : 1\n",
      "212.227.216.232 : 2\n",
      "212.227.216.160 : 1\n",
      "212.227.216.240 : 1\n",
      "212.227.216.200 : 1\n",
      "212.227.216.168 : 1\n",
      "212.227.216.192 : 1\n",
      "212.227.216.136 : 1\n",
      "212.227.216.208 : 1\n",
      "212.227.216.224 : 1\n",
      "212.227.216.176 : 1\n",
      "66.249.79.133 : 1\n",
      "43.163.3.58 : 1\n",
      "47.128.58.54 : 1\n"
     ]
    }
   ],
   "source": [
    "for key in sessions_by_visitor:\n",
    "    print(key, \":\", len(sessions_by_visitor[key]))"
   ]
  },
  {
   "cell_type": "code",
   "execution_count": 27,
   "metadata": {},
   "outputs": [
    {
     "data": {
      "text/plain": [
       "{'ip': '108.174.2.214',\n",
       " 'hostname': '108-174-2-214.fwd.linkedin.com',\n",
       " 'city': 'Centreville',\n",
       " 'region': 'Virginia',\n",
       " 'country': 'US',\n",
       " 'loc': '38.8404,-77.4289',\n",
       " 'org': 'AS55163 LinkedIn Corporation',\n",
       " 'postal': '20120',\n",
       " 'timezone': 'America/New_York',\n",
       " 'readme': 'https://ipinfo.io/missingauth'}"
      ]
     },
     "execution_count": 27,
     "metadata": {},
     "output_type": "execute_result"
    }
   ],
   "source": [
    "response = urlopen(\"https://ipinfo.io/108.174.2.214/json\")\n",
    "response = json.load(response)\n",
    "# location_data = {\n",
    "#     \"city\": response.get(\"city\"),\n",
    "#     \"region\": response.get(\"region\"),\n",
    "#     \"country\": response.get(\"country_name\")\n",
    "# }\n",
    "response"
   ]
  },
  {
   "cell_type": "code",
   "execution_count": 5,
   "metadata": {},
   "outputs": [],
   "source": [
    "session_df = {\n",
    "    \"visitor\": [],\n",
    "    \"start_time\": [],\n",
    "    \"end_time\": [],\n",
    "    \"city\": [],\n",
    "    \"region\": [],\n",
    "    \"country\": [],\n",
    "    \"lat\": [],\n",
    "    \"lon\": []\n",
    "}\n",
    "for visitor, sessions in sessions_by_visitor.items():\n",
    "    for session in sessions:\n",
    "        ip_info = urlopen(f\"https://ipinfo.io/{visitor}/json\")\n",
    "        ip_info = json.load(ip_info)\n",
    "        location_data = {\n",
    "            \"city\": ip_info.get(\"city\"),\n",
    "            \"region\": ip_info.get(\"region\"),\n",
    "            \"country\": ip_info.get(\"country_name\"),\n",
    "            \"lat\": float(ip_info.get(\"loc\").split(\",\")[0]),\n",
    "            \"lon\": float(ip_info.get(\"loc\").split(\",\")[1]),\n",
    "        }\n",
    "        session_df[\"visitor\"].append(visitor)\n",
    "        session_df[\"start_time\"].append(session[0][\"created_at\"])\n",
    "        session_df[\"end_time\"].append(session[-1][\"created_at\"])\n",
    "        session_df[\"city\"].append(location_data[\"city\"])\n",
    "        session_df[\"region\"].append(location_data[\"region\"])\n",
    "        session_df[\"country\"].append(location_data[\"country\"])\n",
    "        session_df[\"lat\"].append(location_data[\"lat\"])\n",
    "        session_df[\"lon\"].append(location_data[\"lon\"])\n",
    "\n",
    "session_df = pd.DataFrame(session_df)"
   ]
  },
  {
   "cell_type": "code",
   "execution_count": 6,
   "metadata": {},
   "outputs": [
    {
     "data": {
      "application/vnd.plotly.v1+json": {
       "config": {
        "plotlyServerURL": "https://plot.ly"
       },
       "data": [
        {
         "hovertemplate": "size=%{marker.size}<br>city=%{text}<br>lat=%{lat}<br>lon=%{lon}<br>end_time=%{marker.color}<extra></extra>",
         "lat": [
          -27.4679,
          -27.4679,
          37.3924,
          37.3394,
          39.9524,
          39.9524,
          39.9524,
          37.3394,
          37.3394,
          51.5085,
          59.3294,
          52.374,
          50.1155,
          29.5603,
          38.9687,
          39.0437,
          1.3557,
          40.8043,
          11.2408,
          40.7143,
          38.8404,
          51.6935,
          51.5085,
          41.3275,
          52.374,
          37.323,
          45.5946,
          45.5946,
          45.5946,
          45.5946,
          45.5946,
          50.8505,
          39.0437,
          39.0437,
          47.6062,
          50.1155,
          50.1155,
          50.1155,
          50.1155,
          50.1155,
          50.1155,
          50.1155,
          50.1155,
          50.1155,
          50.1155,
          50.1155,
          45.5946,
          1.2897,
          1.2897
         ],
         "legendgroup": "",
         "lon": [
          153.0281,
          153.0281,
          -121.9623,
          -121.895,
          -75.1636,
          -75.1636,
          -75.1636,
          -121.895,
          -121.895,
          -0.1257,
          18.0687,
          4.8897,
          8.6842,
          106.5577,
          -77.3411,
          -77.4875,
          103.8237,
          -74.0121,
          -74.199,
          -74.006,
          -77.4289,
          -0.1784,
          -0.1257,
          -89.129,
          4.8897,
          -122.0322,
          -121.1787,
          -121.1787,
          -121.1787,
          -121.1787,
          -121.1787,
          4.3488,
          -77.4875,
          -77.4875,
          -122.3321,
          8.6842,
          8.6842,
          8.6842,
          8.6842,
          8.6842,
          8.6842,
          8.6842,
          8.6842,
          8.6842,
          8.6842,
          8.6842,
          -121.1787,
          103.8501,
          103.8501
         ],
         "marker": {
          "color": [
           1709027116,
           1709027896,
           1709026880,
           1709026881,
           1709027064,
           1709112558,
           1709154740,
           1709027031,
           1709029242,
           1709032374,
           1709040198,
           1709041783,
           1709056298,
           1709060543,
           1709061290,
           1709083627,
           1709088977,
           1709099392,
           1709101900,
           1709112809,
           1709112792,
           1709116024,
           1709120435,
           1709120436,
           1709132201,
           1709134101,
           1709144570,
           1709172582,
           1709144593,
           1709168981,
           1709180954,
           1709146557,
           1709147558,
           1709147577,
           1709148583,
           1709161309,
           1709162200,
           1709162197,
           1709162206,
           1709161886,
           1709162197,
           1709162197,
           1709162206,
           1709162202,
           1709162206,
           1709162206,
           1709167124,
           1709169316,
           1709174598
          ],
          "coloraxis": "coloraxis",
          "size": [
           25,
           25,
           25,
           25,
           25,
           25,
           25,
           25,
           25,
           25,
           25,
           25,
           25,
           25,
           25,
           25,
           25,
           25,
           25,
           25,
           25,
           25,
           25,
           25,
           25,
           25,
           25,
           25,
           25,
           25,
           25,
           25,
           25,
           25,
           25,
           25,
           25,
           25,
           25,
           25,
           25,
           25,
           25,
           25,
           25,
           25,
           25,
           25,
           25
          ],
          "sizemode": "area",
          "sizeref": 0.0625
         },
         "mode": "markers+text",
         "name": "",
         "showlegend": false,
         "subplot": "mapbox",
         "text": [
          "Brisbane",
          "Brisbane",
          "Santa Clara",
          "San Jose",
          "Philadelphia",
          "Philadelphia",
          "Philadelphia",
          "San Jose",
          "San Jose",
          "London",
          "Stockholm",
          "Amsterdam",
          "Frankfurt am Main",
          "Chongqing",
          "Reston",
          "Ashburn",
          "Singapore",
          "North Bergen",
          "Santa Marta",
          "New York City",
          "Centreville",
          "Potters Bar",
          "London",
          "Peru",
          "Amsterdam",
          "Cupertino",
          "The Dalles",
          "The Dalles",
          "The Dalles",
          "The Dalles",
          "The Dalles",
          "Brussels",
          "Ashburn",
          "Ashburn",
          "Seattle",
          "Frankfurt am Main",
          "Frankfurt am Main",
          "Frankfurt am Main",
          "Frankfurt am Main",
          "Frankfurt am Main",
          "Frankfurt am Main",
          "Frankfurt am Main",
          "Frankfurt am Main",
          "Frankfurt am Main",
          "Frankfurt am Main",
          "Frankfurt am Main",
          "The Dalles",
          "Singapore",
          "Singapore"
         ],
         "type": "scattermapbox"
        }
       ],
       "layout": {
        "coloraxis": {
         "colorbar": {
          "title": {
           "text": "end_time"
          }
         },
         "colorscale": [
          [
           0,
           "#0d0887"
          ],
          [
           0.1111111111111111,
           "#46039f"
          ],
          [
           0.2222222222222222,
           "#7201a8"
          ],
          [
           0.3333333333333333,
           "#9c179e"
          ],
          [
           0.4444444444444444,
           "#bd3786"
          ],
          [
           0.5555555555555556,
           "#d8576b"
          ],
          [
           0.6666666666666666,
           "#ed7953"
          ],
          [
           0.7777777777777778,
           "#fb9f3a"
          ],
          [
           0.8888888888888888,
           "#fdca26"
          ],
          [
           1,
           "#f0f921"
          ]
         ]
        },
        "legend": {
         "itemsizing": "constant",
         "tracegroupgap": 0
        },
        "mapbox": {
         "accesstoken": "pk.eyJ1IjoiaXNhYWNpcyIsImEiOiJja3FpYXBkejQxeWEyMm9taTlwbmY0azM0In0.3DAzKo5Gihi-bw_eJdZneA",
         "center": {
          "lat": 45.5946,
          "lon": -0.1784
         },
         "domain": {
          "x": [
           0,
           1
          ],
          "y": [
           0,
           1
          ]
         },
         "zoom": 1
        },
        "margin": {
         "t": 60
        },
        "template": {
         "data": {
          "bar": [
           {
            "error_x": {
             "color": "#2a3f5f"
            },
            "error_y": {
             "color": "#2a3f5f"
            },
            "marker": {
             "line": {
              "color": "#E5ECF6",
              "width": 0.5
             },
             "pattern": {
              "fillmode": "overlay",
              "size": 10,
              "solidity": 0.2
             }
            },
            "type": "bar"
           }
          ],
          "barpolar": [
           {
            "marker": {
             "line": {
              "color": "#E5ECF6",
              "width": 0.5
             },
             "pattern": {
              "fillmode": "overlay",
              "size": 10,
              "solidity": 0.2
             }
            },
            "type": "barpolar"
           }
          ],
          "carpet": [
           {
            "aaxis": {
             "endlinecolor": "#2a3f5f",
             "gridcolor": "white",
             "linecolor": "white",
             "minorgridcolor": "white",
             "startlinecolor": "#2a3f5f"
            },
            "baxis": {
             "endlinecolor": "#2a3f5f",
             "gridcolor": "white",
             "linecolor": "white",
             "minorgridcolor": "white",
             "startlinecolor": "#2a3f5f"
            },
            "type": "carpet"
           }
          ],
          "choropleth": [
           {
            "colorbar": {
             "outlinewidth": 0,
             "ticks": ""
            },
            "type": "choropleth"
           }
          ],
          "contour": [
           {
            "colorbar": {
             "outlinewidth": 0,
             "ticks": ""
            },
            "colorscale": [
             [
              0,
              "#0d0887"
             ],
             [
              0.1111111111111111,
              "#46039f"
             ],
             [
              0.2222222222222222,
              "#7201a8"
             ],
             [
              0.3333333333333333,
              "#9c179e"
             ],
             [
              0.4444444444444444,
              "#bd3786"
             ],
             [
              0.5555555555555556,
              "#d8576b"
             ],
             [
              0.6666666666666666,
              "#ed7953"
             ],
             [
              0.7777777777777778,
              "#fb9f3a"
             ],
             [
              0.8888888888888888,
              "#fdca26"
             ],
             [
              1,
              "#f0f921"
             ]
            ],
            "type": "contour"
           }
          ],
          "contourcarpet": [
           {
            "colorbar": {
             "outlinewidth": 0,
             "ticks": ""
            },
            "type": "contourcarpet"
           }
          ],
          "heatmap": [
           {
            "colorbar": {
             "outlinewidth": 0,
             "ticks": ""
            },
            "colorscale": [
             [
              0,
              "#0d0887"
             ],
             [
              0.1111111111111111,
              "#46039f"
             ],
             [
              0.2222222222222222,
              "#7201a8"
             ],
             [
              0.3333333333333333,
              "#9c179e"
             ],
             [
              0.4444444444444444,
              "#bd3786"
             ],
             [
              0.5555555555555556,
              "#d8576b"
             ],
             [
              0.6666666666666666,
              "#ed7953"
             ],
             [
              0.7777777777777778,
              "#fb9f3a"
             ],
             [
              0.8888888888888888,
              "#fdca26"
             ],
             [
              1,
              "#f0f921"
             ]
            ],
            "type": "heatmap"
           }
          ],
          "heatmapgl": [
           {
            "colorbar": {
             "outlinewidth": 0,
             "ticks": ""
            },
            "colorscale": [
             [
              0,
              "#0d0887"
             ],
             [
              0.1111111111111111,
              "#46039f"
             ],
             [
              0.2222222222222222,
              "#7201a8"
             ],
             [
              0.3333333333333333,
              "#9c179e"
             ],
             [
              0.4444444444444444,
              "#bd3786"
             ],
             [
              0.5555555555555556,
              "#d8576b"
             ],
             [
              0.6666666666666666,
              "#ed7953"
             ],
             [
              0.7777777777777778,
              "#fb9f3a"
             ],
             [
              0.8888888888888888,
              "#fdca26"
             ],
             [
              1,
              "#f0f921"
             ]
            ],
            "type": "heatmapgl"
           }
          ],
          "histogram": [
           {
            "marker": {
             "pattern": {
              "fillmode": "overlay",
              "size": 10,
              "solidity": 0.2
             }
            },
            "type": "histogram"
           }
          ],
          "histogram2d": [
           {
            "colorbar": {
             "outlinewidth": 0,
             "ticks": ""
            },
            "colorscale": [
             [
              0,
              "#0d0887"
             ],
             [
              0.1111111111111111,
              "#46039f"
             ],
             [
              0.2222222222222222,
              "#7201a8"
             ],
             [
              0.3333333333333333,
              "#9c179e"
             ],
             [
              0.4444444444444444,
              "#bd3786"
             ],
             [
              0.5555555555555556,
              "#d8576b"
             ],
             [
              0.6666666666666666,
              "#ed7953"
             ],
             [
              0.7777777777777778,
              "#fb9f3a"
             ],
             [
              0.8888888888888888,
              "#fdca26"
             ],
             [
              1,
              "#f0f921"
             ]
            ],
            "type": "histogram2d"
           }
          ],
          "histogram2dcontour": [
           {
            "colorbar": {
             "outlinewidth": 0,
             "ticks": ""
            },
            "colorscale": [
             [
              0,
              "#0d0887"
             ],
             [
              0.1111111111111111,
              "#46039f"
             ],
             [
              0.2222222222222222,
              "#7201a8"
             ],
             [
              0.3333333333333333,
              "#9c179e"
             ],
             [
              0.4444444444444444,
              "#bd3786"
             ],
             [
              0.5555555555555556,
              "#d8576b"
             ],
             [
              0.6666666666666666,
              "#ed7953"
             ],
             [
              0.7777777777777778,
              "#fb9f3a"
             ],
             [
              0.8888888888888888,
              "#fdca26"
             ],
             [
              1,
              "#f0f921"
             ]
            ],
            "type": "histogram2dcontour"
           }
          ],
          "mesh3d": [
           {
            "colorbar": {
             "outlinewidth": 0,
             "ticks": ""
            },
            "type": "mesh3d"
           }
          ],
          "parcoords": [
           {
            "line": {
             "colorbar": {
              "outlinewidth": 0,
              "ticks": ""
             }
            },
            "type": "parcoords"
           }
          ],
          "pie": [
           {
            "automargin": true,
            "type": "pie"
           }
          ],
          "scatter": [
           {
            "fillpattern": {
             "fillmode": "overlay",
             "size": 10,
             "solidity": 0.2
            },
            "type": "scatter"
           }
          ],
          "scatter3d": [
           {
            "line": {
             "colorbar": {
              "outlinewidth": 0,
              "ticks": ""
             }
            },
            "marker": {
             "colorbar": {
              "outlinewidth": 0,
              "ticks": ""
             }
            },
            "type": "scatter3d"
           }
          ],
          "scattercarpet": [
           {
            "marker": {
             "colorbar": {
              "outlinewidth": 0,
              "ticks": ""
             }
            },
            "type": "scattercarpet"
           }
          ],
          "scattergeo": [
           {
            "marker": {
             "colorbar": {
              "outlinewidth": 0,
              "ticks": ""
             }
            },
            "type": "scattergeo"
           }
          ],
          "scattergl": [
           {
            "marker": {
             "colorbar": {
              "outlinewidth": 0,
              "ticks": ""
             }
            },
            "type": "scattergl"
           }
          ],
          "scattermapbox": [
           {
            "marker": {
             "colorbar": {
              "outlinewidth": 0,
              "ticks": ""
             }
            },
            "type": "scattermapbox"
           }
          ],
          "scatterpolar": [
           {
            "marker": {
             "colorbar": {
              "outlinewidth": 0,
              "ticks": ""
             }
            },
            "type": "scatterpolar"
           }
          ],
          "scatterpolargl": [
           {
            "marker": {
             "colorbar": {
              "outlinewidth": 0,
              "ticks": ""
             }
            },
            "type": "scatterpolargl"
           }
          ],
          "scatterternary": [
           {
            "marker": {
             "colorbar": {
              "outlinewidth": 0,
              "ticks": ""
             }
            },
            "type": "scatterternary"
           }
          ],
          "surface": [
           {
            "colorbar": {
             "outlinewidth": 0,
             "ticks": ""
            },
            "colorscale": [
             [
              0,
              "#0d0887"
             ],
             [
              0.1111111111111111,
              "#46039f"
             ],
             [
              0.2222222222222222,
              "#7201a8"
             ],
             [
              0.3333333333333333,
              "#9c179e"
             ],
             [
              0.4444444444444444,
              "#bd3786"
             ],
             [
              0.5555555555555556,
              "#d8576b"
             ],
             [
              0.6666666666666666,
              "#ed7953"
             ],
             [
              0.7777777777777778,
              "#fb9f3a"
             ],
             [
              0.8888888888888888,
              "#fdca26"
             ],
             [
              1,
              "#f0f921"
             ]
            ],
            "type": "surface"
           }
          ],
          "table": [
           {
            "cells": {
             "fill": {
              "color": "#EBF0F8"
             },
             "line": {
              "color": "white"
             }
            },
            "header": {
             "fill": {
              "color": "#C8D4E3"
             },
             "line": {
              "color": "white"
             }
            },
            "type": "table"
           }
          ]
         },
         "layout": {
          "annotationdefaults": {
           "arrowcolor": "#2a3f5f",
           "arrowhead": 0,
           "arrowwidth": 1
          },
          "autotypenumbers": "strict",
          "coloraxis": {
           "colorbar": {
            "outlinewidth": 0,
            "ticks": ""
           }
          },
          "colorscale": {
           "diverging": [
            [
             0,
             "#8e0152"
            ],
            [
             0.1,
             "#c51b7d"
            ],
            [
             0.2,
             "#de77ae"
            ],
            [
             0.3,
             "#f1b6da"
            ],
            [
             0.4,
             "#fde0ef"
            ],
            [
             0.5,
             "#f7f7f7"
            ],
            [
             0.6,
             "#e6f5d0"
            ],
            [
             0.7,
             "#b8e186"
            ],
            [
             0.8,
             "#7fbc41"
            ],
            [
             0.9,
             "#4d9221"
            ],
            [
             1,
             "#276419"
            ]
           ],
           "sequential": [
            [
             0,
             "#0d0887"
            ],
            [
             0.1111111111111111,
             "#46039f"
            ],
            [
             0.2222222222222222,
             "#7201a8"
            ],
            [
             0.3333333333333333,
             "#9c179e"
            ],
            [
             0.4444444444444444,
             "#bd3786"
            ],
            [
             0.5555555555555556,
             "#d8576b"
            ],
            [
             0.6666666666666666,
             "#ed7953"
            ],
            [
             0.7777777777777778,
             "#fb9f3a"
            ],
            [
             0.8888888888888888,
             "#fdca26"
            ],
            [
             1,
             "#f0f921"
            ]
           ],
           "sequentialminus": [
            [
             0,
             "#0d0887"
            ],
            [
             0.1111111111111111,
             "#46039f"
            ],
            [
             0.2222222222222222,
             "#7201a8"
            ],
            [
             0.3333333333333333,
             "#9c179e"
            ],
            [
             0.4444444444444444,
             "#bd3786"
            ],
            [
             0.5555555555555556,
             "#d8576b"
            ],
            [
             0.6666666666666666,
             "#ed7953"
            ],
            [
             0.7777777777777778,
             "#fb9f3a"
            ],
            [
             0.8888888888888888,
             "#fdca26"
            ],
            [
             1,
             "#f0f921"
            ]
           ]
          },
          "colorway": [
           "#636efa",
           "#EF553B",
           "#00cc96",
           "#ab63fa",
           "#FFA15A",
           "#19d3f3",
           "#FF6692",
           "#B6E880",
           "#FF97FF",
           "#FECB52"
          ],
          "font": {
           "color": "#2a3f5f"
          },
          "geo": {
           "bgcolor": "white",
           "lakecolor": "white",
           "landcolor": "#E5ECF6",
           "showlakes": true,
           "showland": true,
           "subunitcolor": "white"
          },
          "hoverlabel": {
           "align": "left"
          },
          "hovermode": "closest",
          "mapbox": {
           "style": "light"
          },
          "paper_bgcolor": "white",
          "plot_bgcolor": "#E5ECF6",
          "polar": {
           "angularaxis": {
            "gridcolor": "white",
            "linecolor": "white",
            "ticks": ""
           },
           "bgcolor": "#E5ECF6",
           "radialaxis": {
            "gridcolor": "white",
            "linecolor": "white",
            "ticks": ""
           }
          },
          "scene": {
           "xaxis": {
            "backgroundcolor": "#E5ECF6",
            "gridcolor": "white",
            "gridwidth": 2,
            "linecolor": "white",
            "showbackground": true,
            "ticks": "",
            "zerolinecolor": "white"
           },
           "yaxis": {
            "backgroundcolor": "#E5ECF6",
            "gridcolor": "white",
            "gridwidth": 2,
            "linecolor": "white",
            "showbackground": true,
            "ticks": "",
            "zerolinecolor": "white"
           },
           "zaxis": {
            "backgroundcolor": "#E5ECF6",
            "gridcolor": "white",
            "gridwidth": 2,
            "linecolor": "white",
            "showbackground": true,
            "ticks": "",
            "zerolinecolor": "white"
           }
          },
          "shapedefaults": {
           "line": {
            "color": "#2a3f5f"
           }
          },
          "ternary": {
           "aaxis": {
            "gridcolor": "white",
            "linecolor": "white",
            "ticks": ""
           },
           "baxis": {
            "gridcolor": "white",
            "linecolor": "white",
            "ticks": ""
           },
           "bgcolor": "#E5ECF6",
           "caxis": {
            "gridcolor": "white",
            "linecolor": "white",
            "ticks": ""
           }
          },
          "title": {
           "x": 0.05
          },
          "xaxis": {
           "automargin": true,
           "gridcolor": "white",
           "linecolor": "white",
           "ticks": "",
           "title": {
            "standoff": 15
           },
           "zerolinecolor": "white",
           "zerolinewidth": 2
          },
          "yaxis": {
           "automargin": true,
           "gridcolor": "white",
           "linecolor": "white",
           "ticks": "",
           "title": {
            "standoff": 15
           },
           "zerolinecolor": "white",
           "zerolinewidth": 2
          }
         }
        }
       }
      }
     },
     "metadata": {},
     "output_type": "display_data"
    }
   ],
   "source": [
    "fig = px.scatter_mapbox(\n",
    "    session_df, \n",
    "    lat=\"lat\", \n",
    "    lon=\"lon\", \n",
    "    color=\"end_time\", \n",
    "    text=\"city\", \n",
    "    size=[25] * len(session_df),\n",
    "    center={\"lat\": session_df.lat.median(), \"lon\": session_df.lon.median()},\n",
    "    zoom=1\n",
    ")\n",
    "fig.show()"
   ]
  }
 ],
 "metadata": {
  "kernelspec": {
   "display_name": "pytorch",
   "language": "python",
   "name": "python3"
  },
  "language_info": {
   "codemirror_mode": {
    "name": "ipython",
    "version": 3
   },
   "file_extension": ".py",
   "mimetype": "text/x-python",
   "name": "python",
   "nbconvert_exporter": "python",
   "pygments_lexer": "ipython3",
   "version": "3.10.9"
  }
 },
 "nbformat": 4,
 "nbformat_minor": 2
}
