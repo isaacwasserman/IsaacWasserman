{
 "cells": [
  {
   "cell_type": "code",
   "execution_count": 8,
   "metadata": {},
   "outputs": [],
   "source": [
    "import os\n",
    "import dotenv\n",
    "dotenv.load_dotenv(\".env.local\")\n",
    "\n",
    "from supabase import create_client, Client\n",
    "import time\n",
    "from copy import deepcopy\n",
    "\n",
    "import re\n",
    "import json\n",
    "from urllib.request import urlopen\n",
    "import requests\n",
    "import pandas as pd\n",
    "import plotly.express as px\n",
    "px.set_mapbox_access_token(os.environ[\"MAPBOX_TOKEN\"])"
   ]
  },
  {
   "cell_type": "code",
   "execution_count": 46,
   "metadata": {},
   "outputs": [
    {
     "name": "stderr",
     "output_type": "stream",
     "text": [
      "2024-03-01 16:42:36,494:INFO - HTTP Request: GET https://wvklzyidkkrskdgquocj.supabase.co/rest/v1/visits?select=%2A \"HTTP/1.1 200 OK\"\n"
     ]
    }
   ],
   "source": [
    "client = create_client(\"https://wvklzyidkkrskdgquocj.supabase.co\", os.environ[\"SUPABASE_KEY\"])\n",
    "response = client.table('visits').select(\"*\").execute()"
   ]
  },
  {
   "cell_type": "code",
   "execution_count": 47,
   "metadata": {},
   "outputs": [
    {
     "data": {
      "text/html": [
       "<div>\n",
       "<style scoped>\n",
       "    .dataframe tbody tr th:only-of-type {\n",
       "        vertical-align: middle;\n",
       "    }\n",
       "\n",
       "    .dataframe tbody tr th {\n",
       "        vertical-align: top;\n",
       "    }\n",
       "\n",
       "    .dataframe thead th {\n",
       "        text-align: right;\n",
       "    }\n",
       "</style>\n",
       "<table border=\"1\" class=\"dataframe\">\n",
       "  <thead>\n",
       "    <tr style=\"text-align: right;\">\n",
       "      <th></th>\n",
       "      <th>id</th>\n",
       "      <th>created_at</th>\n",
       "      <th>ip_address</th>\n",
       "      <th>route</th>\n",
       "      <th>user_agent</th>\n",
       "      <th>is_bot</th>\n",
       "      <th>referrer</th>\n",
       "    </tr>\n",
       "  </thead>\n",
       "  <tbody>\n",
       "    <tr>\n",
       "      <th>0</th>\n",
       "      <td>7</td>\n",
       "      <td>2024-02-27 04:41:20.067741+00:00</td>\n",
       "      <td>64.23.187.48</td>\n",
       "      <td>/</td>\n",
       "      <td>None</td>\n",
       "      <td>None</td>\n",
       "      <td>None</td>\n",
       "    </tr>\n",
       "    <tr>\n",
       "      <th>1</th>\n",
       "      <td>8</td>\n",
       "      <td>2024-02-27 04:41:20.795991+00:00</td>\n",
       "      <td>64.23.187.48</td>\n",
       "      <td>/</td>\n",
       "      <td>None</td>\n",
       "      <td>None</td>\n",
       "      <td>None</td>\n",
       "    </tr>\n",
       "    <tr>\n",
       "      <th>2</th>\n",
       "      <td>9</td>\n",
       "      <td>2024-02-27 04:41:21.213661+00:00</td>\n",
       "      <td>172.69.23.187</td>\n",
       "      <td>/</td>\n",
       "      <td>None</td>\n",
       "      <td>None</td>\n",
       "      <td>None</td>\n",
       "    </tr>\n",
       "    <tr>\n",
       "      <th>3</th>\n",
       "      <td>10</td>\n",
       "      <td>2024-02-27 04:42:53.205514+00:00</td>\n",
       "      <td>76.99.220.36</td>\n",
       "      <td>/</td>\n",
       "      <td>None</td>\n",
       "      <td>None</td>\n",
       "      <td>None</td>\n",
       "    </tr>\n",
       "    <tr>\n",
       "      <th>4</th>\n",
       "      <td>11</td>\n",
       "      <td>2024-02-27 04:43:51.899723+00:00</td>\n",
       "      <td>172.69.22.42</td>\n",
       "      <td>/</td>\n",
       "      <td>None</td>\n",
       "      <td>None</td>\n",
       "      <td>None</td>\n",
       "    </tr>\n",
       "    <tr>\n",
       "      <th>...</th>\n",
       "      <td>...</td>\n",
       "      <td>...</td>\n",
       "      <td>...</td>\n",
       "      <td>...</td>\n",
       "      <td>...</td>\n",
       "      <td>...</td>\n",
       "      <td>...</td>\n",
       "    </tr>\n",
       "    <tr>\n",
       "      <th>329</th>\n",
       "      <td>31</td>\n",
       "      <td>2024-02-27 04:58:16.901783+00:00</td>\n",
       "      <td>127.0.0.1</td>\n",
       "      <td>/technology/engcode</td>\n",
       "      <td>None</td>\n",
       "      <td>None</td>\n",
       "      <td>None</td>\n",
       "    </tr>\n",
       "    <tr>\n",
       "      <th>330</th>\n",
       "      <td>157</td>\n",
       "      <td>2024-02-29 01:09:56.447413+00:00</td>\n",
       "      <td>127.0.0.1</td>\n",
       "      <td>/</td>\n",
       "      <td>Mozilla/5.0 (Macintosh; Intel Mac OS X 10_15_7...</td>\n",
       "      <td>false</td>\n",
       "      <td>None</td>\n",
       "    </tr>\n",
       "    <tr>\n",
       "      <th>331</th>\n",
       "      <td>158</td>\n",
       "      <td>2024-02-29 01:12:02.064846+00:00</td>\n",
       "      <td>127.0.0.1</td>\n",
       "      <td>/technology</td>\n",
       "      <td>Mozilla/5.0 (Macintosh; Intel Mac OS X 10_15_7...</td>\n",
       "      <td>false</td>\n",
       "      <td>None</td>\n",
       "    </tr>\n",
       "    <tr>\n",
       "      <th>332</th>\n",
       "      <td>159</td>\n",
       "      <td>2024-02-29 01:12:07.331389+00:00</td>\n",
       "      <td>127.0.0.1</td>\n",
       "      <td>/technology/seeing-sound</td>\n",
       "      <td>Mozilla/5.0 (Macintosh; Intel Mac OS X 10_15_7...</td>\n",
       "      <td>false</td>\n",
       "      <td>None</td>\n",
       "    </tr>\n",
       "    <tr>\n",
       "      <th>333</th>\n",
       "      <td>338</td>\n",
       "      <td>2024-03-01 21:30:22.782549+00:00</td>\n",
       "      <td>127.0.0.1</td>\n",
       "      <td>/technology/portrait-shadow-removal</td>\n",
       "      <td>Mozilla/5.0 (Macintosh; Intel Mac OS X 10_15_7...</td>\n",
       "      <td>false</td>\n",
       "      <td>None</td>\n",
       "    </tr>\n",
       "  </tbody>\n",
       "</table>\n",
       "<p>334 rows × 7 columns</p>\n",
       "</div>"
      ],
      "text/plain": [
       "      id                       created_at     ip_address  \\\n",
       "0      7 2024-02-27 04:41:20.067741+00:00   64.23.187.48   \n",
       "1      8 2024-02-27 04:41:20.795991+00:00   64.23.187.48   \n",
       "2      9 2024-02-27 04:41:21.213661+00:00  172.69.23.187   \n",
       "3     10 2024-02-27 04:42:53.205514+00:00   76.99.220.36   \n",
       "4     11 2024-02-27 04:43:51.899723+00:00   172.69.22.42   \n",
       "..   ...                              ...            ...   \n",
       "329   31 2024-02-27 04:58:16.901783+00:00      127.0.0.1   \n",
       "330  157 2024-02-29 01:09:56.447413+00:00      127.0.0.1   \n",
       "331  158 2024-02-29 01:12:02.064846+00:00      127.0.0.1   \n",
       "332  159 2024-02-29 01:12:07.331389+00:00      127.0.0.1   \n",
       "333  338 2024-03-01 21:30:22.782549+00:00      127.0.0.1   \n",
       "\n",
       "                                   route  \\\n",
       "0                                      /   \n",
       "1                                      /   \n",
       "2                                      /   \n",
       "3                                      /   \n",
       "4                                      /   \n",
       "..                                   ...   \n",
       "329                  /technology/engcode   \n",
       "330                                    /   \n",
       "331                          /technology   \n",
       "332             /technology/seeing-sound   \n",
       "333  /technology/portrait-shadow-removal   \n",
       "\n",
       "                                            user_agent is_bot referrer  \n",
       "0                                                 None   None     None  \n",
       "1                                                 None   None     None  \n",
       "2                                                 None   None     None  \n",
       "3                                                 None   None     None  \n",
       "4                                                 None   None     None  \n",
       "..                                                 ...    ...      ...  \n",
       "329                                               None   None     None  \n",
       "330  Mozilla/5.0 (Macintosh; Intel Mac OS X 10_15_7...  false     None  \n",
       "331  Mozilla/5.0 (Macintosh; Intel Mac OS X 10_15_7...  false     None  \n",
       "332  Mozilla/5.0 (Macintosh; Intel Mac OS X 10_15_7...  false     None  \n",
       "333  Mozilla/5.0 (Macintosh; Intel Mac OS X 10_15_7...  false     None  \n",
       "\n",
       "[334 rows x 7 columns]"
      ]
     },
     "execution_count": 47,
     "metadata": {},
     "output_type": "execute_result"
    }
   ],
   "source": [
    "visits = deepcopy(response.data)\n",
    "visits_df = pd.DataFrame(visits)\n",
    "visits_df['created_at'] = pd.to_datetime(visits_df['created_at'])\n",
    "visits_df"
   ]
  },
  {
   "cell_type": "code",
   "execution_count": 48,
   "metadata": {},
   "outputs": [],
   "source": [
    "maximum_session_gap = 30\n",
    "sessions = []\n",
    "for ip_address in visits_df['ip_address'].unique():\n",
    "    visitors_visits = visits_df[visits_df['ip_address'] == ip_address]\n",
    "    visitors_visits = visitors_visits.sort_values('created_at')\n",
    "    session = []\n",
    "    for i in range(1, len(visitors_visits)):\n",
    "        if session == []:\n",
    "            session.append(visitors_visits.iloc[i])\n",
    "        previous_visit = session[-1]\n",
    "        current_visit = visitors_visits.iloc[i]\n",
    "        time_difference = (current_visit['created_at'] - previous_visit['created_at']).seconds / 60\n",
    "        if time_difference > maximum_session_gap:\n",
    "            sessions.append(session)\n",
    "            session = []\n",
    "        session.append(current_visit)\n",
    "    if session != []:\n",
    "        sessions.append(session)\n",
    "\n",
    "sessions_df = {\n",
    "    \"ip_address\": [],\n",
    "    \"start_time\": [],\n",
    "    \"end_time\": [],\n",
    "    \"visit_ids\": []\n",
    "}\n",
    "\n",
    "for session in sessions:\n",
    "    sessions_df[\"ip_address\"].append(session[0]['ip_address'])\n",
    "    sessions_df[\"start_time\"].append(session[0]['created_at'])\n",
    "    sessions_df[\"end_time\"].append(session[-1]['created_at'])\n",
    "    sessions_df[\"visit_ids\"].append([visit['id'] for visit in session])\n",
    "\n",
    "sessions_df = pd.DataFrame(sessions_df)"
   ]
  },
  {
   "cell_type": "code",
   "execution_count": 73,
   "metadata": {},
   "outputs": [
    {
     "name": "stderr",
     "output_type": "stream",
     "text": [
      "2024-03-01 17:01:37,400:INFO - HTTP Request: GET https://wvklzyidkkrskdgquocj.supabase.co/rest/v1/visitors?select=%2A \"HTTP/1.1 200 OK\"\n"
     ]
    }
   ],
   "source": [
    "response = client.table('visitors').select(\"*\").execute()\n",
    "visitors = deepcopy(response.data)"
   ]
  },
  {
   "cell_type": "code",
   "execution_count": 91,
   "metadata": {},
   "outputs": [
    {
     "name": "stderr",
     "output_type": "stream",
     "text": [
      "2024-03-01 17:19:19,261:INFO - HTTP Request: POST https://wvklzyidkkrskdgquocj.supabase.co/rest/v1/visitors \"HTTP/1.1 201 Created\"\n"
     ]
    }
   ],
   "source": [
    "visitors_df = pd.DataFrame(visitors)\n",
    "new_visitors = []\n",
    "ip_addresses_in_sessions = sessions_df['ip_address'].unique()\n",
    "for ip_address in ip_addresses_in_sessions:\n",
    "    if ip_address in visitors_df['ip_address'].values:\n",
    "        continue\n",
    "    ip_info = json.load(urlopen(f\"https://ipinfo.io/{ip_address}/json\"))\n",
    "    loc = ip_info.get('loc', None)\n",
    "    if loc:\n",
    "        lat, lon = loc.split(',')\n",
    "        ip_info['lat'] = float(lat)\n",
    "        ip_info['lon'] = float(lon)\n",
    "    else:\n",
    "        ip_info['lat'] = None\n",
    "        ip_info['lon'] = None\n",
    "    visitor = {\n",
    "        \"ip_address\": ip_address,\n",
    "        \"city\": ip_info.get('city', None),\n",
    "        \"region\": ip_info.get('region', None),\n",
    "        \"country\": ip_info.get('country', None),\n",
    "        \"postal\": ip_info.get('postal', None),\n",
    "        \"lat\": ip_info.get('lat', None),\n",
    "        \"lon\": ip_info.get('lon', None),\n",
    "        \"timezone\": ip_info.get('timezone', None),\n",
    "        \"hostname\": ip_info.get('hostname', None),\n",
    "        \"org\": ip_info.get('org', None),\n",
    "        \"is_bot\": visits_df[visits_df['ip_address'] == ip_address].iloc[-1]['is_bot']\n",
    "    }\n",
    "    new_visitors.append(visitor)\n",
    "\n",
    "response = client.table('visitors').insert(new_visitors).execute()"
   ]
  },
  {
   "cell_type": "code",
   "execution_count": 103,
   "metadata": {},
   "outputs": [
    {
     "data": {
      "application/vnd.plotly.v1+json": {
       "config": {
        "plotlyServerURL": "https://plot.ly"
       },
       "data": [
        {
         "hovertemplate": "size=%{marker.size}<br>city=%{text}<br>lat=%{lat}<br>lon=%{lon}<br>end_time=%{marker.color}<extra></extra>",
         "lat": [
          -27.4679,
          -27.4679,
          -27.4679,
          37.3924,
          37.3394,
          39.9524,
          39.9524,
          39.9524,
          39.9524,
          39.9524,
          37.3394,
          37.3394,
          51.5085,
          59.3294,
          52.374,
          50.1155,
          29.5603,
          38.9687,
          39.0437,
          1.3557,
          40.8043,
          11.2408,
          40.7143,
          38.8404,
          51.6935,
          51.5085,
          41.3275,
          52.374,
          37.323,
          45.5946,
          45.5946,
          45.5946,
          45.5946,
          45.5946,
          45.5946,
          50.8505,
          39.0437,
          39.0437,
          47.6062,
          47.6062,
          50.1155,
          50.1155,
          50.1155,
          50.1155,
          50.1155,
          50.1155,
          50.1155,
          50.1155,
          50.1155,
          50.1155,
          50.1155,
          45.5946,
          1.2897,
          1.2897,
          52.2883,
          59.3294,
          39.0437,
          45.8399,
          45.8399,
          48.8534,
          45.8399,
          52.374,
          35.7721,
          35.7721,
          35.7721,
          36.7473,
          35.7721,
          35.7721,
          35.7721,
          35.7721,
          32.7831,
          35.7721,
          35.7721,
          51.5085,
          39.0997,
          39.0437,
          52.2298,
          1.3557,
          1.3557,
          59.3294,
          40.7143,
          37.323,
          36.154,
          36.154,
          36.154,
          40.7947,
          40.7947,
          36.6676,
          47.1301,
          47.1301,
          39.8901,
          39.8901,
          38.7135,
          38.7135,
          38.7135,
          38.7135,
          41.6005,
          47.1301,
          32.0617,
          36.154,
          36.154,
          39.9524,
          41.7748,
          40.7143,
          40.7143,
          40.7143,
          39.4273
         ],
         "legendgroup": "",
         "lon": [
          153.0281,
          153.0281,
          153.0281,
          -121.9623,
          -121.895,
          -75.1636,
          -75.1636,
          -75.1636,
          -75.1636,
          -75.1636,
          -121.895,
          -121.895,
          -0.1257,
          18.0687,
          4.8897,
          8.6842,
          106.5577,
          -77.3411,
          -77.4875,
          103.8237,
          -74.0121,
          -74.199,
          -74.006,
          -77.4289,
          -0.1784,
          -0.1257,
          -89.129,
          4.8897,
          -122.0322,
          -121.1787,
          -121.1787,
          -121.1787,
          -121.1787,
          -121.1787,
          -121.1787,
          4.3488,
          -77.4875,
          -77.4875,
          -122.3321,
          -122.3321,
          8.6842,
          8.6842,
          8.6842,
          8.6842,
          8.6842,
          8.6842,
          8.6842,
          8.6842,
          8.6842,
          8.6842,
          8.6842,
          -121.1787,
          103.8501,
          103.8501,
          4.7861,
          18.0687,
          -77.4875,
          -119.7006,
          -119.7006,
          2.3488,
          -119.7006,
          4.8897,
          -78.6386,
          -78.6386,
          -78.6386,
          -95.9808,
          -78.6386,
          -78.6386,
          -78.6386,
          -78.6386,
          -96.8067,
          -78.6386,
          -78.6386,
          -0.1257,
          -94.5786,
          -77.4875,
          21.0118,
          103.8237,
          103.8237,
          18.0687,
          -74.006,
          -122.0322,
          -95.9928,
          -95.9928,
          -95.9928,
          -73.9425,
          -73.9425,
          -78.3875,
          -119.2781,
          -119.2781,
          -75.4755,
          -75.4755,
          -78.1594,
          -78.1594,
          -78.1594,
          -78.1594,
          -93.6091,
          -119.2781,
          118.7778,
          -95.9928,
          -95.9928,
          -75.1636,
          -78.0206,
          -74.006,
          -74.006,
          -74.006,
          -75.2341
         ],
         "marker": {
          "color": [
           1709027116,
           1709027896,
           1709187127,
           1709026880,
           1709026881,
           1709027064,
           1709112558,
           1709154740,
           1709186958,
           1709340463,
           1709027031,
           1709029242,
           1709032374,
           1709040198,
           1709041783,
           1709056298,
           1709060543,
           1709061290,
           1709083627,
           1709088977,
           1709099392,
           1709101900,
           1709112809,
           1709112792,
           1709116024,
           1709120435,
           1709120436,
           1709132201,
           1709134101,
           1709144570,
           1709172582,
           1709144593,
           1709168981,
           1709180954,
           1709215975,
           1709146557,
           1709147558,
           1709147577,
           1709148583,
           1709257456,
           1709161309,
           1709162200,
           1709162197,
           1709162206,
           1709161886,
           1709162197,
           1709162197,
           1709162206,
           1709162202,
           1709162206,
           1709162206,
           1709167124,
           1709169316,
           1709174598,
           1709194998,
           1709208695,
           1709215513,
           1709228023,
           1709228024,
           1709242732,
           1709245050,
           1709257167,
           1709259650,
           1709262630,
           1709284798,
           1709270021,
           1709270446,
           1709282097,
           1709298632,
           1709301332,
           1709271503,
           1709274215,
           1709291431,
           1709276991,
           1709277090,
           1709300504,
           1709302546,
           1709306792,
           1709327175,
           1709322616,
           1709326779,
           1709331811,
           1709332840,
           1709333921,
           1709334999,
           1709333401,
           1709335000,
           1709333209,
           1709333217,
           1709334637,
           1709333220,
           1709334812,
           1709333307,
           1709333316,
           1709333389,
           1709333406,
           1709334754,
           1709335648,
           1709335762,
           1709336081,
           1709337162,
           1709340829,
           1709340553,
           1709341545,
           1709341547,
           1709341966,
           1709341960
          ],
          "coloraxis": "coloraxis",
          "size": [
           25,
           25,
           25,
           25,
           25,
           25,
           25,
           25,
           25,
           25,
           25,
           25,
           25,
           25,
           25,
           25,
           25,
           25,
           25,
           25,
           25,
           25,
           25,
           25,
           25,
           25,
           25,
           25,
           25,
           25,
           25,
           25,
           25,
           25,
           25,
           25,
           25,
           25,
           25,
           25,
           25,
           25,
           25,
           25,
           25,
           25,
           25,
           25,
           25,
           25,
           25,
           25,
           25,
           25,
           25,
           25,
           25,
           25,
           25,
           25,
           25,
           25,
           25,
           25,
           25,
           25,
           25,
           25,
           25,
           25,
           25,
           25,
           25,
           25,
           25,
           25,
           25,
           25,
           25,
           25,
           25,
           25,
           25,
           25,
           25,
           25,
           25,
           25,
           25,
           25,
           25,
           25,
           25,
           25,
           25,
           25,
           25,
           25,
           25,
           25,
           25,
           25,
           25,
           25,
           25,
           25,
           25
          ],
          "sizemode": "area",
          "sizeref": 0.0625
         },
         "mode": "markers+text",
         "name": "",
         "showlegend": false,
         "subplot": "mapbox",
         "text": [
          "Brisbane",
          "Brisbane",
          "Brisbane",
          "Santa Clara",
          "San Jose",
          "Philadelphia",
          "Philadelphia",
          "Philadelphia",
          "Philadelphia",
          "Philadelphia",
          "San Jose",
          "San Jose",
          "London",
          "Stockholm",
          "Amsterdam",
          "Frankfurt am Main",
          "Chongqing",
          "Reston",
          "Ashburn",
          "Singapore",
          "North Bergen",
          "Santa Marta",
          "New York City",
          "Centreville",
          "Potters Bar",
          "London",
          "Peru",
          "Amsterdam",
          "Cupertino",
          "The Dalles",
          "The Dalles",
          "The Dalles",
          "The Dalles",
          "The Dalles",
          "The Dalles",
          "Brussels",
          "Ashburn",
          "Ashburn",
          "Seattle",
          "Seattle",
          "Frankfurt am Main",
          "Frankfurt am Main",
          "Frankfurt am Main",
          "Frankfurt am Main",
          "Frankfurt am Main",
          "Frankfurt am Main",
          "Frankfurt am Main",
          "Frankfurt am Main",
          "Frankfurt am Main",
          "Frankfurt am Main",
          "Frankfurt am Main",
          "The Dalles",
          "Singapore",
          "Singapore",
          "Oude Meer",
          "Stockholm",
          "Ashburn",
          "Boardman",
          "Boardman",
          "Paris",
          "Boardman",
          "Amsterdam",
          "Raleigh",
          "Raleigh",
          "Raleigh",
          "Bartlesville",
          "Raleigh",
          "Raleigh",
          "Raleigh",
          "Raleigh",
          "Dallas",
          "Raleigh",
          "Raleigh",
          "London",
          "Kansas City",
          "Ashburn",
          "Warsaw",
          "Singapore",
          "Singapore",
          "Stockholm",
          "New York City",
          "Cupertino",
          "Tulsa",
          "Tulsa",
          "Tulsa",
          "East Harlem",
          "East Harlem",
          "Boydton",
          "Moses Lake",
          "Moses Lake",
          "Chester Heights",
          "Chester Heights",
          "Washington",
          "Washington",
          "Washington",
          "Washington",
          "Des Moines",
          "Moses Lake",
          "Nanjing",
          "Tulsa",
          "Tulsa",
          "Philadelphia",
          "Coudersport",
          "New York City",
          "New York City",
          "New York City",
          "Bridgeton"
         ],
         "type": "scattermapbox"
        }
       ],
       "layout": {
        "coloraxis": {
         "colorbar": {
          "title": {
           "text": "end_time"
          }
         },
         "colorscale": [
          [
           0,
           "#0d0887"
          ],
          [
           0.1111111111111111,
           "#46039f"
          ],
          [
           0.2222222222222222,
           "#7201a8"
          ],
          [
           0.3333333333333333,
           "#9c179e"
          ],
          [
           0.4444444444444444,
           "#bd3786"
          ],
          [
           0.5555555555555556,
           "#d8576b"
          ],
          [
           0.6666666666666666,
           "#ed7953"
          ],
          [
           0.7777777777777778,
           "#fb9f3a"
          ],
          [
           0.8888888888888888,
           "#fdca26"
          ],
          [
           1,
           "#f0f921"
          ]
         ]
        },
        "legend": {
         "itemsizing": "constant",
         "tracegroupgap": 0
        },
        "mapbox": {
         "accesstoken": "pk.eyJ1IjoiaXNhYWNpcyIsImEiOiJja3FpYXBkejQxeWEyMm9taTlwbmY0azM0In0.3DAzKo5Gihi-bw_eJdZneA",
         "center": {
          "lat": 39.9524,
          "lon": -75.4755
         },
         "domain": {
          "x": [
           0,
           1
          ],
          "y": [
           0,
           1
          ]
         },
         "zoom": 1
        },
        "margin": {
         "t": 60
        },
        "template": {
         "data": {
          "bar": [
           {
            "error_x": {
             "color": "#2a3f5f"
            },
            "error_y": {
             "color": "#2a3f5f"
            },
            "marker": {
             "line": {
              "color": "#E5ECF6",
              "width": 0.5
             },
             "pattern": {
              "fillmode": "overlay",
              "size": 10,
              "solidity": 0.2
             }
            },
            "type": "bar"
           }
          ],
          "barpolar": [
           {
            "marker": {
             "line": {
              "color": "#E5ECF6",
              "width": 0.5
             },
             "pattern": {
              "fillmode": "overlay",
              "size": 10,
              "solidity": 0.2
             }
            },
            "type": "barpolar"
           }
          ],
          "carpet": [
           {
            "aaxis": {
             "endlinecolor": "#2a3f5f",
             "gridcolor": "white",
             "linecolor": "white",
             "minorgridcolor": "white",
             "startlinecolor": "#2a3f5f"
            },
            "baxis": {
             "endlinecolor": "#2a3f5f",
             "gridcolor": "white",
             "linecolor": "white",
             "minorgridcolor": "white",
             "startlinecolor": "#2a3f5f"
            },
            "type": "carpet"
           }
          ],
          "choropleth": [
           {
            "colorbar": {
             "outlinewidth": 0,
             "ticks": ""
            },
            "type": "choropleth"
           }
          ],
          "contour": [
           {
            "colorbar": {
             "outlinewidth": 0,
             "ticks": ""
            },
            "colorscale": [
             [
              0,
              "#0d0887"
             ],
             [
              0.1111111111111111,
              "#46039f"
             ],
             [
              0.2222222222222222,
              "#7201a8"
             ],
             [
              0.3333333333333333,
              "#9c179e"
             ],
             [
              0.4444444444444444,
              "#bd3786"
             ],
             [
              0.5555555555555556,
              "#d8576b"
             ],
             [
              0.6666666666666666,
              "#ed7953"
             ],
             [
              0.7777777777777778,
              "#fb9f3a"
             ],
             [
              0.8888888888888888,
              "#fdca26"
             ],
             [
              1,
              "#f0f921"
             ]
            ],
            "type": "contour"
           }
          ],
          "contourcarpet": [
           {
            "colorbar": {
             "outlinewidth": 0,
             "ticks": ""
            },
            "type": "contourcarpet"
           }
          ],
          "heatmap": [
           {
            "colorbar": {
             "outlinewidth": 0,
             "ticks": ""
            },
            "colorscale": [
             [
              0,
              "#0d0887"
             ],
             [
              0.1111111111111111,
              "#46039f"
             ],
             [
              0.2222222222222222,
              "#7201a8"
             ],
             [
              0.3333333333333333,
              "#9c179e"
             ],
             [
              0.4444444444444444,
              "#bd3786"
             ],
             [
              0.5555555555555556,
              "#d8576b"
             ],
             [
              0.6666666666666666,
              "#ed7953"
             ],
             [
              0.7777777777777778,
              "#fb9f3a"
             ],
             [
              0.8888888888888888,
              "#fdca26"
             ],
             [
              1,
              "#f0f921"
             ]
            ],
            "type": "heatmap"
           }
          ],
          "heatmapgl": [
           {
            "colorbar": {
             "outlinewidth": 0,
             "ticks": ""
            },
            "colorscale": [
             [
              0,
              "#0d0887"
             ],
             [
              0.1111111111111111,
              "#46039f"
             ],
             [
              0.2222222222222222,
              "#7201a8"
             ],
             [
              0.3333333333333333,
              "#9c179e"
             ],
             [
              0.4444444444444444,
              "#bd3786"
             ],
             [
              0.5555555555555556,
              "#d8576b"
             ],
             [
              0.6666666666666666,
              "#ed7953"
             ],
             [
              0.7777777777777778,
              "#fb9f3a"
             ],
             [
              0.8888888888888888,
              "#fdca26"
             ],
             [
              1,
              "#f0f921"
             ]
            ],
            "type": "heatmapgl"
           }
          ],
          "histogram": [
           {
            "marker": {
             "pattern": {
              "fillmode": "overlay",
              "size": 10,
              "solidity": 0.2
             }
            },
            "type": "histogram"
           }
          ],
          "histogram2d": [
           {
            "colorbar": {
             "outlinewidth": 0,
             "ticks": ""
            },
            "colorscale": [
             [
              0,
              "#0d0887"
             ],
             [
              0.1111111111111111,
              "#46039f"
             ],
             [
              0.2222222222222222,
              "#7201a8"
             ],
             [
              0.3333333333333333,
              "#9c179e"
             ],
             [
              0.4444444444444444,
              "#bd3786"
             ],
             [
              0.5555555555555556,
              "#d8576b"
             ],
             [
              0.6666666666666666,
              "#ed7953"
             ],
             [
              0.7777777777777778,
              "#fb9f3a"
             ],
             [
              0.8888888888888888,
              "#fdca26"
             ],
             [
              1,
              "#f0f921"
             ]
            ],
            "type": "histogram2d"
           }
          ],
          "histogram2dcontour": [
           {
            "colorbar": {
             "outlinewidth": 0,
             "ticks": ""
            },
            "colorscale": [
             [
              0,
              "#0d0887"
             ],
             [
              0.1111111111111111,
              "#46039f"
             ],
             [
              0.2222222222222222,
              "#7201a8"
             ],
             [
              0.3333333333333333,
              "#9c179e"
             ],
             [
              0.4444444444444444,
              "#bd3786"
             ],
             [
              0.5555555555555556,
              "#d8576b"
             ],
             [
              0.6666666666666666,
              "#ed7953"
             ],
             [
              0.7777777777777778,
              "#fb9f3a"
             ],
             [
              0.8888888888888888,
              "#fdca26"
             ],
             [
              1,
              "#f0f921"
             ]
            ],
            "type": "histogram2dcontour"
           }
          ],
          "mesh3d": [
           {
            "colorbar": {
             "outlinewidth": 0,
             "ticks": ""
            },
            "type": "mesh3d"
           }
          ],
          "parcoords": [
           {
            "line": {
             "colorbar": {
              "outlinewidth": 0,
              "ticks": ""
             }
            },
            "type": "parcoords"
           }
          ],
          "pie": [
           {
            "automargin": true,
            "type": "pie"
           }
          ],
          "scatter": [
           {
            "fillpattern": {
             "fillmode": "overlay",
             "size": 10,
             "solidity": 0.2
            },
            "type": "scatter"
           }
          ],
          "scatter3d": [
           {
            "line": {
             "colorbar": {
              "outlinewidth": 0,
              "ticks": ""
             }
            },
            "marker": {
             "colorbar": {
              "outlinewidth": 0,
              "ticks": ""
             }
            },
            "type": "scatter3d"
           }
          ],
          "scattercarpet": [
           {
            "marker": {
             "colorbar": {
              "outlinewidth": 0,
              "ticks": ""
             }
            },
            "type": "scattercarpet"
           }
          ],
          "scattergeo": [
           {
            "marker": {
             "colorbar": {
              "outlinewidth": 0,
              "ticks": ""
             }
            },
            "type": "scattergeo"
           }
          ],
          "scattergl": [
           {
            "marker": {
             "colorbar": {
              "outlinewidth": 0,
              "ticks": ""
             }
            },
            "type": "scattergl"
           }
          ],
          "scattermapbox": [
           {
            "marker": {
             "colorbar": {
              "outlinewidth": 0,
              "ticks": ""
             }
            },
            "type": "scattermapbox"
           }
          ],
          "scatterpolar": [
           {
            "marker": {
             "colorbar": {
              "outlinewidth": 0,
              "ticks": ""
             }
            },
            "type": "scatterpolar"
           }
          ],
          "scatterpolargl": [
           {
            "marker": {
             "colorbar": {
              "outlinewidth": 0,
              "ticks": ""
             }
            },
            "type": "scatterpolargl"
           }
          ],
          "scatterternary": [
           {
            "marker": {
             "colorbar": {
              "outlinewidth": 0,
              "ticks": ""
             }
            },
            "type": "scatterternary"
           }
          ],
          "surface": [
           {
            "colorbar": {
             "outlinewidth": 0,
             "ticks": ""
            },
            "colorscale": [
             [
              0,
              "#0d0887"
             ],
             [
              0.1111111111111111,
              "#46039f"
             ],
             [
              0.2222222222222222,
              "#7201a8"
             ],
             [
              0.3333333333333333,
              "#9c179e"
             ],
             [
              0.4444444444444444,
              "#bd3786"
             ],
             [
              0.5555555555555556,
              "#d8576b"
             ],
             [
              0.6666666666666666,
              "#ed7953"
             ],
             [
              0.7777777777777778,
              "#fb9f3a"
             ],
             [
              0.8888888888888888,
              "#fdca26"
             ],
             [
              1,
              "#f0f921"
             ]
            ],
            "type": "surface"
           }
          ],
          "table": [
           {
            "cells": {
             "fill": {
              "color": "#EBF0F8"
             },
             "line": {
              "color": "white"
             }
            },
            "header": {
             "fill": {
              "color": "#C8D4E3"
             },
             "line": {
              "color": "white"
             }
            },
            "type": "table"
           }
          ]
         },
         "layout": {
          "annotationdefaults": {
           "arrowcolor": "#2a3f5f",
           "arrowhead": 0,
           "arrowwidth": 1
          },
          "autotypenumbers": "strict",
          "coloraxis": {
           "colorbar": {
            "outlinewidth": 0,
            "ticks": ""
           }
          },
          "colorscale": {
           "diverging": [
            [
             0,
             "#8e0152"
            ],
            [
             0.1,
             "#c51b7d"
            ],
            [
             0.2,
             "#de77ae"
            ],
            [
             0.3,
             "#f1b6da"
            ],
            [
             0.4,
             "#fde0ef"
            ],
            [
             0.5,
             "#f7f7f7"
            ],
            [
             0.6,
             "#e6f5d0"
            ],
            [
             0.7,
             "#b8e186"
            ],
            [
             0.8,
             "#7fbc41"
            ],
            [
             0.9,
             "#4d9221"
            ],
            [
             1,
             "#276419"
            ]
           ],
           "sequential": [
            [
             0,
             "#0d0887"
            ],
            [
             0.1111111111111111,
             "#46039f"
            ],
            [
             0.2222222222222222,
             "#7201a8"
            ],
            [
             0.3333333333333333,
             "#9c179e"
            ],
            [
             0.4444444444444444,
             "#bd3786"
            ],
            [
             0.5555555555555556,
             "#d8576b"
            ],
            [
             0.6666666666666666,
             "#ed7953"
            ],
            [
             0.7777777777777778,
             "#fb9f3a"
            ],
            [
             0.8888888888888888,
             "#fdca26"
            ],
            [
             1,
             "#f0f921"
            ]
           ],
           "sequentialminus": [
            [
             0,
             "#0d0887"
            ],
            [
             0.1111111111111111,
             "#46039f"
            ],
            [
             0.2222222222222222,
             "#7201a8"
            ],
            [
             0.3333333333333333,
             "#9c179e"
            ],
            [
             0.4444444444444444,
             "#bd3786"
            ],
            [
             0.5555555555555556,
             "#d8576b"
            ],
            [
             0.6666666666666666,
             "#ed7953"
            ],
            [
             0.7777777777777778,
             "#fb9f3a"
            ],
            [
             0.8888888888888888,
             "#fdca26"
            ],
            [
             1,
             "#f0f921"
            ]
           ]
          },
          "colorway": [
           "#636efa",
           "#EF553B",
           "#00cc96",
           "#ab63fa",
           "#FFA15A",
           "#19d3f3",
           "#FF6692",
           "#B6E880",
           "#FF97FF",
           "#FECB52"
          ],
          "font": {
           "color": "#2a3f5f"
          },
          "geo": {
           "bgcolor": "white",
           "lakecolor": "white",
           "landcolor": "#E5ECF6",
           "showlakes": true,
           "showland": true,
           "subunitcolor": "white"
          },
          "hoverlabel": {
           "align": "left"
          },
          "hovermode": "closest",
          "mapbox": {
           "style": "light"
          },
          "paper_bgcolor": "white",
          "plot_bgcolor": "#E5ECF6",
          "polar": {
           "angularaxis": {
            "gridcolor": "white",
            "linecolor": "white",
            "ticks": ""
           },
           "bgcolor": "#E5ECF6",
           "radialaxis": {
            "gridcolor": "white",
            "linecolor": "white",
            "ticks": ""
           }
          },
          "scene": {
           "xaxis": {
            "backgroundcolor": "#E5ECF6",
            "gridcolor": "white",
            "gridwidth": 2,
            "linecolor": "white",
            "showbackground": true,
            "ticks": "",
            "zerolinecolor": "white"
           },
           "yaxis": {
            "backgroundcolor": "#E5ECF6",
            "gridcolor": "white",
            "gridwidth": 2,
            "linecolor": "white",
            "showbackground": true,
            "ticks": "",
            "zerolinecolor": "white"
           },
           "zaxis": {
            "backgroundcolor": "#E5ECF6",
            "gridcolor": "white",
            "gridwidth": 2,
            "linecolor": "white",
            "showbackground": true,
            "ticks": "",
            "zerolinecolor": "white"
           }
          },
          "shapedefaults": {
           "line": {
            "color": "#2a3f5f"
           }
          },
          "ternary": {
           "aaxis": {
            "gridcolor": "white",
            "linecolor": "white",
            "ticks": ""
           },
           "baxis": {
            "gridcolor": "white",
            "linecolor": "white",
            "ticks": ""
           },
           "bgcolor": "#E5ECF6",
           "caxis": {
            "gridcolor": "white",
            "linecolor": "white",
            "ticks": ""
           }
          },
          "title": {
           "x": 0.05
          },
          "xaxis": {
           "automargin": true,
           "gridcolor": "white",
           "linecolor": "white",
           "ticks": "",
           "title": {
            "standoff": 15
           },
           "zerolinecolor": "white",
           "zerolinewidth": 2
          },
          "yaxis": {
           "automargin": true,
           "gridcolor": "white",
           "linecolor": "white",
           "ticks": "",
           "title": {
            "standoff": 15
           },
           "zerolinecolor": "white",
           "zerolinewidth": 2
          }
         }
        }
       }
      }
     },
     "metadata": {},
     "output_type": "display_data"
    }
   ],
   "source": [
    "fig = px.scatter_mapbox(\n",
    "    session_df, \n",
    "    lat=\"lat\", \n",
    "    lon=\"lon\", \n",
    "    color=\"end_time\", \n",
    "    text=\"city\", \n",
    "    size=[25] * len(session_df),\n",
    "    center={\"lat\": session_df.lat.median(), \"lon\": session_df.lon.median()},\n",
    "    zoom=1\n",
    ")\n",
    "fig.show()"
   ]
  }
 ],
 "metadata": {
  "kernelspec": {
   "display_name": "pytorch",
   "language": "python",
   "name": "python3"
  },
  "language_info": {
   "codemirror_mode": {
    "name": "ipython",
    "version": 3
   },
   "file_extension": ".py",
   "mimetype": "text/x-python",
   "name": "python",
   "nbconvert_exporter": "python",
   "pygments_lexer": "ipython3",
   "version": "3.10.9"
  }
 },
 "nbformat": 4,
 "nbformat_minor": 2
}
