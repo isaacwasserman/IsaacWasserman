{
 "cells": [
  {
   "cell_type": "code",
   "execution_count": 127,
   "metadata": {},
   "outputs": [],
   "source": [
    "import os\n",
    "import dotenv\n",
    "dotenv.load_dotenv(\".env.local\")\n",
    "\n",
    "from supabase import create_client, Client\n",
    "import time\n",
    "from copy import deepcopy\n",
    "\n",
    "import re\n",
    "import json\n",
    "from urllib.request import urlopen\n",
    "import requests\n",
    "import pandas as pd\n",
    "import plotly.express as px\n",
    "px.set_mapbox_access_token(os.environ[\"MAPBOX_TOKEN\"])\n",
    "from datetime import datetime, timedelta"
   ]
  },
  {
   "cell_type": "code",
   "execution_count": 46,
   "metadata": {},
   "outputs": [
    {
     "name": "stderr",
     "output_type": "stream",
     "text": [
      "2024-03-01 16:42:36,494:INFO - HTTP Request: GET https://wvklzyidkkrskdgquocj.supabase.co/rest/v1/visits?select=%2A \"HTTP/1.1 200 OK\"\n"
     ]
    }
   ],
   "source": [
    "client = create_client(\"https://wvklzyidkkrskdgquocj.supabase.co\", os.environ[\"SUPABASE_KEY\"])\n",
    "response = client.table('visits').select(\"*\").execute()"
   ]
  },
  {
   "cell_type": "code",
   "execution_count": 47,
   "metadata": {},
   "outputs": [
    {
     "data": {
      "text/html": [
       "<div>\n",
       "<style scoped>\n",
       "    .dataframe tbody tr th:only-of-type {\n",
       "        vertical-align: middle;\n",
       "    }\n",
       "\n",
       "    .dataframe tbody tr th {\n",
       "        vertical-align: top;\n",
       "    }\n",
       "\n",
       "    .dataframe thead th {\n",
       "        text-align: right;\n",
       "    }\n",
       "</style>\n",
       "<table border=\"1\" class=\"dataframe\">\n",
       "  <thead>\n",
       "    <tr style=\"text-align: right;\">\n",
       "      <th></th>\n",
       "      <th>id</th>\n",
       "      <th>created_at</th>\n",
       "      <th>ip_address</th>\n",
       "      <th>route</th>\n",
       "      <th>user_agent</th>\n",
       "      <th>is_bot</th>\n",
       "      <th>referrer</th>\n",
       "    </tr>\n",
       "  </thead>\n",
       "  <tbody>\n",
       "    <tr>\n",
       "      <th>0</th>\n",
       "      <td>7</td>\n",
       "      <td>2024-02-27 04:41:20.067741+00:00</td>\n",
       "      <td>64.23.187.48</td>\n",
       "      <td>/</td>\n",
       "      <td>None</td>\n",
       "      <td>None</td>\n",
       "      <td>None</td>\n",
       "    </tr>\n",
       "    <tr>\n",
       "      <th>1</th>\n",
       "      <td>8</td>\n",
       "      <td>2024-02-27 04:41:20.795991+00:00</td>\n",
       "      <td>64.23.187.48</td>\n",
       "      <td>/</td>\n",
       "      <td>None</td>\n",
       "      <td>None</td>\n",
       "      <td>None</td>\n",
       "    </tr>\n",
       "    <tr>\n",
       "      <th>2</th>\n",
       "      <td>9</td>\n",
       "      <td>2024-02-27 04:41:21.213661+00:00</td>\n",
       "      <td>172.69.23.187</td>\n",
       "      <td>/</td>\n",
       "      <td>None</td>\n",
       "      <td>None</td>\n",
       "      <td>None</td>\n",
       "    </tr>\n",
       "    <tr>\n",
       "      <th>3</th>\n",
       "      <td>10</td>\n",
       "      <td>2024-02-27 04:42:53.205514+00:00</td>\n",
       "      <td>76.99.220.36</td>\n",
       "      <td>/</td>\n",
       "      <td>None</td>\n",
       "      <td>None</td>\n",
       "      <td>None</td>\n",
       "    </tr>\n",
       "    <tr>\n",
       "      <th>4</th>\n",
       "      <td>11</td>\n",
       "      <td>2024-02-27 04:43:51.899723+00:00</td>\n",
       "      <td>172.69.22.42</td>\n",
       "      <td>/</td>\n",
       "      <td>None</td>\n",
       "      <td>None</td>\n",
       "      <td>None</td>\n",
       "    </tr>\n",
       "    <tr>\n",
       "      <th>...</th>\n",
       "      <td>...</td>\n",
       "      <td>...</td>\n",
       "      <td>...</td>\n",
       "      <td>...</td>\n",
       "      <td>...</td>\n",
       "      <td>...</td>\n",
       "      <td>...</td>\n",
       "    </tr>\n",
       "    <tr>\n",
       "      <th>329</th>\n",
       "      <td>31</td>\n",
       "      <td>2024-02-27 04:58:16.901783+00:00</td>\n",
       "      <td>127.0.0.1</td>\n",
       "      <td>/technology/engcode</td>\n",
       "      <td>None</td>\n",
       "      <td>None</td>\n",
       "      <td>None</td>\n",
       "    </tr>\n",
       "    <tr>\n",
       "      <th>330</th>\n",
       "      <td>157</td>\n",
       "      <td>2024-02-29 01:09:56.447413+00:00</td>\n",
       "      <td>127.0.0.1</td>\n",
       "      <td>/</td>\n",
       "      <td>Mozilla/5.0 (Macintosh; Intel Mac OS X 10_15_7...</td>\n",
       "      <td>false</td>\n",
       "      <td>None</td>\n",
       "    </tr>\n",
       "    <tr>\n",
       "      <th>331</th>\n",
       "      <td>158</td>\n",
       "      <td>2024-02-29 01:12:02.064846+00:00</td>\n",
       "      <td>127.0.0.1</td>\n",
       "      <td>/technology</td>\n",
       "      <td>Mozilla/5.0 (Macintosh; Intel Mac OS X 10_15_7...</td>\n",
       "      <td>false</td>\n",
       "      <td>None</td>\n",
       "    </tr>\n",
       "    <tr>\n",
       "      <th>332</th>\n",
       "      <td>159</td>\n",
       "      <td>2024-02-29 01:12:07.331389+00:00</td>\n",
       "      <td>127.0.0.1</td>\n",
       "      <td>/technology/seeing-sound</td>\n",
       "      <td>Mozilla/5.0 (Macintosh; Intel Mac OS X 10_15_7...</td>\n",
       "      <td>false</td>\n",
       "      <td>None</td>\n",
       "    </tr>\n",
       "    <tr>\n",
       "      <th>333</th>\n",
       "      <td>338</td>\n",
       "      <td>2024-03-01 21:30:22.782549+00:00</td>\n",
       "      <td>127.0.0.1</td>\n",
       "      <td>/technology/portrait-shadow-removal</td>\n",
       "      <td>Mozilla/5.0 (Macintosh; Intel Mac OS X 10_15_7...</td>\n",
       "      <td>false</td>\n",
       "      <td>None</td>\n",
       "    </tr>\n",
       "  </tbody>\n",
       "</table>\n",
       "<p>334 rows × 7 columns</p>\n",
       "</div>"
      ],
      "text/plain": [
       "      id                       created_at     ip_address  \\\n",
       "0      7 2024-02-27 04:41:20.067741+00:00   64.23.187.48   \n",
       "1      8 2024-02-27 04:41:20.795991+00:00   64.23.187.48   \n",
       "2      9 2024-02-27 04:41:21.213661+00:00  172.69.23.187   \n",
       "3     10 2024-02-27 04:42:53.205514+00:00   76.99.220.36   \n",
       "4     11 2024-02-27 04:43:51.899723+00:00   172.69.22.42   \n",
       "..   ...                              ...            ...   \n",
       "329   31 2024-02-27 04:58:16.901783+00:00      127.0.0.1   \n",
       "330  157 2024-02-29 01:09:56.447413+00:00      127.0.0.1   \n",
       "331  158 2024-02-29 01:12:02.064846+00:00      127.0.0.1   \n",
       "332  159 2024-02-29 01:12:07.331389+00:00      127.0.0.1   \n",
       "333  338 2024-03-01 21:30:22.782549+00:00      127.0.0.1   \n",
       "\n",
       "                                   route  \\\n",
       "0                                      /   \n",
       "1                                      /   \n",
       "2                                      /   \n",
       "3                                      /   \n",
       "4                                      /   \n",
       "..                                   ...   \n",
       "329                  /technology/engcode   \n",
       "330                                    /   \n",
       "331                          /technology   \n",
       "332             /technology/seeing-sound   \n",
       "333  /technology/portrait-shadow-removal   \n",
       "\n",
       "                                            user_agent is_bot referrer  \n",
       "0                                                 None   None     None  \n",
       "1                                                 None   None     None  \n",
       "2                                                 None   None     None  \n",
       "3                                                 None   None     None  \n",
       "4                                                 None   None     None  \n",
       "..                                                 ...    ...      ...  \n",
       "329                                               None   None     None  \n",
       "330  Mozilla/5.0 (Macintosh; Intel Mac OS X 10_15_7...  false     None  \n",
       "331  Mozilla/5.0 (Macintosh; Intel Mac OS X 10_15_7...  false     None  \n",
       "332  Mozilla/5.0 (Macintosh; Intel Mac OS X 10_15_7...  false     None  \n",
       "333  Mozilla/5.0 (Macintosh; Intel Mac OS X 10_15_7...  false     None  \n",
       "\n",
       "[334 rows x 7 columns]"
      ]
     },
     "execution_count": 47,
     "metadata": {},
     "output_type": "execute_result"
    }
   ],
   "source": [
    "visits = deepcopy(response.data)\n",
    "visits_df = pd.DataFrame(visits)\n",
    "visits_df['created_at'] = pd.to_datetime(visits_df['created_at'])\n",
    "visits_df"
   ]
  },
  {
   "cell_type": "code",
   "execution_count": 48,
   "metadata": {},
   "outputs": [],
   "source": [
    "maximum_session_gap = 30\n",
    "sessions = []\n",
    "for ip_address in visits_df['ip_address'].unique():\n",
    "    visitors_visits = visits_df[visits_df['ip_address'] == ip_address]\n",
    "    visitors_visits = visitors_visits.sort_values('created_at')\n",
    "    session = []\n",
    "    for i in range(1, len(visitors_visits)):\n",
    "        if session == []:\n",
    "            session.append(visitors_visits.iloc[i])\n",
    "        previous_visit = session[-1]\n",
    "        current_visit = visitors_visits.iloc[i]\n",
    "        time_difference = (current_visit['created_at'] - previous_visit['created_at']).seconds / 60\n",
    "        if time_difference > maximum_session_gap:\n",
    "            sessions.append(session)\n",
    "            session = []\n",
    "        session.append(current_visit)\n",
    "    if session != []:\n",
    "        sessions.append(session)\n",
    "\n",
    "sessions_df = {\n",
    "    \"ip_address\": [],\n",
    "    \"start_time\": [],\n",
    "    \"end_time\": [],\n",
    "    \"visit_ids\": []\n",
    "}\n",
    "\n",
    "for session in sessions:\n",
    "    sessions_df[\"ip_address\"].append(session[0]['ip_address'])\n",
    "    sessions_df[\"start_time\"].append(session[0]['created_at'])\n",
    "    sessions_df[\"end_time\"].append(session[-1]['created_at'])\n",
    "    sessions_df[\"visit_ids\"].append([visit['id'] for visit in session])\n",
    "\n",
    "sessions_df = pd.DataFrame(sessions_df)"
   ]
  },
  {
   "cell_type": "code",
   "execution_count": 73,
   "metadata": {},
   "outputs": [
    {
     "name": "stderr",
     "output_type": "stream",
     "text": [
      "2024-03-01 17:01:37,400:INFO - HTTP Request: GET https://wvklzyidkkrskdgquocj.supabase.co/rest/v1/visitors?select=%2A \"HTTP/1.1 200 OK\"\n"
     ]
    }
   ],
   "source": [
    "response = client.table('visitors').select(\"*\").execute()\n",
    "visitors = deepcopy(response.data)"
   ]
  },
  {
   "cell_type": "code",
   "execution_count": 91,
   "metadata": {},
   "outputs": [
    {
     "name": "stderr",
     "output_type": "stream",
     "text": [
      "2024-03-01 17:19:19,261:INFO - HTTP Request: POST https://wvklzyidkkrskdgquocj.supabase.co/rest/v1/visitors \"HTTP/1.1 201 Created\"\n"
     ]
    }
   ],
   "source": [
    "visitors_df = pd.DataFrame(visitors)\n",
    "new_visitors = []\n",
    "ip_addresses_in_sessions = sessions_df['ip_address'].unique()\n",
    "for ip_address in ip_addresses_in_sessions:\n",
    "    if ip_address in visitors_df['ip_address'].values:\n",
    "        continue\n",
    "    ip_info = json.load(urlopen(f\"https://ipinfo.io/{ip_address}/json\"))\n",
    "    loc = ip_info.get('loc', None)\n",
    "    if loc:\n",
    "        lat, lon = loc.split(',')\n",
    "        ip_info['lat'] = float(lat)\n",
    "        ip_info['lon'] = float(lon)\n",
    "    else:\n",
    "        ip_info['lat'] = None\n",
    "        ip_info['lon'] = None\n",
    "    visitor = {\n",
    "        \"ip_address\": ip_address,\n",
    "        \"city\": ip_info.get('city', None),\n",
    "        \"region\": ip_info.get('region', None),\n",
    "        \"country\": ip_info.get('country', None),\n",
    "        \"postal\": ip_info.get('postal', None),\n",
    "        \"lat\": ip_info.get('lat', None),\n",
    "        \"lon\": ip_info.get('lon', None),\n",
    "        \"timezone\": ip_info.get('timezone', None),\n",
    "        \"hostname\": ip_info.get('hostname', None),\n",
    "        \"org\": ip_info.get('org', None),\n",
    "        \"is_bot\": visits_df[visits_df['ip_address'] == ip_address].iloc[-1]['is_bot']\n",
    "    }\n",
    "    new_visitors.append(visitor)\n",
    "\n",
    "response = client.table('visitors').insert(new_visitors).execute()"
   ]
  },
  {
   "cell_type": "code",
   "execution_count": 155,
   "metadata": {},
   "outputs": [
    {
     "data": {
      "application/vnd.plotly.v1+json": {
       "config": {
        "plotlyServerURL": "https://plot.ly"
       },
       "data": [
        {
         "customdata": [
          [
           "Philadelphia",
           "",
           "c-76-99-220-36.hsd1.pa.comcast.net",
           "2024-03-01T19:44:04.134550+00:00",
           "2024-03-01T19:47:43.916932+00:00"
          ],
          [
           "Philadelphia",
           "",
           "c-76-99-220-36.hsd1.pa.comcast.net",
           "2024-03-01T20:45:51.541146+00:00",
           "2024-03-01T20:45:52.380918+00:00"
          ],
          [
           "Bartlesville",
           "",
           "",
           "2024-03-01T00:13:39.418274+00:00",
           "2024-03-01T00:13:41.696474+00:00"
          ],
          [
           "Dallas",
           "",
           "",
           "2024-03-01T00:38:22.900125+00:00",
           "2024-03-01T00:38:23.991830+00:00"
          ],
          [
           null,
           "",
           "",
           "2024-03-01T21:30:22.782549+00:00",
           "2024-03-01T21:30:22.782549+00:00"
          ],
          [
           "New York City",
           "",
           "ue.tmodns.net",
           "2024-03-01T15:59:38.586358+00:00",
           "2024-03-01T15:59:39.920748+00:00"
          ],
          [
           "East Harlem",
           "",
           "pool-96-224-10-228.nycmny.fios.verizon.net",
           "2024-03-01T17:46:43.843479+00:00",
           "2024-03-01T18:16:40.084728+00:00"
          ],
          [
           "Chester Heights",
           "",
           "pool-71-175-49-244.phlapa.fios.verizon.net",
           "2024-03-01T17:47:00.070236+00:00",
           "2024-03-01T18:13:32.430237+00:00"
          ],
          [
           "Washington",
           "",
           "",
           "2024-03-01T17:48:36.613937+00:00",
           "2024-03-01T17:48:36.872125+00:00"
          ],
          [
           "Washington",
           "",
           "",
           "2024-03-01T17:49:49.211215+00:00",
           "2024-03-01T17:49:49.325260+00:00"
          ],
          [
           "Washington",
           "",
           "",
           "2024-03-01T17:50:04.900328+00:00",
           "2024-03-01T17:50:06.253027+00:00"
          ],
          [
           "Des Moines",
           "",
           "",
           "2024-03-01T18:11:22.462967+00:00",
           "2024-03-01T18:12:34.734200+00:00"
          ],
          [
           "Philadelphia",
           "",
           "pool-71-175-163-154.phlapa.east.verizon.net",
           "2024-03-01T19:47:24.730054+00:00",
           "2024-03-01T19:53:49.523085+00:00"
          ],
          [
           "Coudersport",
           "",
           "",
           "2024-03-01T19:48:06.869391+00:00",
           "2024-03-01T19:49:13.676359+00:00"
          ],
          [
           "New York City",
           "",
           "",
           "2024-03-01T20:03:25.212781+00:00",
           "2024-03-01T20:05:45.614212+00:00"
          ],
          [
           "New York City",
           "",
           "",
           "2024-03-01T20:11:56.467924+00:00",
           "2024-03-01T20:12:46.559700+00:00"
          ],
          [
           "Bridgeton",
           "",
           "c-174-57-54-19.hsd1.nj.comcast.net",
           "2024-03-01T20:12:40.528862+00:00",
           "2024-03-01T20:12:40.780982+00:00"
          ],
          [
           "Bridgeton",
           "",
           "c-73-197-50-4.hsd1.nj.comcast.net",
           "2024-03-01T20:43:17.061324+00:00",
           "2024-03-01T20:44:27.728273+00:00"
          ]
         ],
         "hovertemplate": "<b>%{hovertext}</b><br><br>is_bot=False<br>lat=%{lat}<br>lon=%{lon}<br>city=%{customdata[0]}<br>referrer=%{customdata[1]}<br>hostname=%{customdata[2]}<br>start_time=%{customdata[3]}<br>end_time=%{customdata[4]}<extra></extra>",
         "hovertext": [
          "76.99.220.36",
          "76.99.220.36",
          "205.169.39.163",
          "65.154.226.166",
          "127.0.0.1",
          "172.56.34.211",
          "96.224.10.228",
          "71.175.49.244",
          "40.94.25.195",
          "40.94.25.153",
          "40.94.25.150",
          "20.12.213.197",
          "71.175.163.154",
          "24.51.150.162",
          "104.28.55.228",
          "104.28.55.235",
          "174.57.54.19",
          "73.197.50.4"
         ],
         "lat": [
          39.9524,
          39.9524,
          36.7473,
          32.7831,
          null,
          40.7143,
          40.7947,
          39.8901,
          38.7135,
          38.7135,
          38.7135,
          41.6005,
          39.9524,
          41.7748,
          40.7143,
          40.7143,
          39.4273,
          39.4273
         ],
         "legendgroup": "False",
         "lon": [
          -75.1636,
          -75.1636,
          -95.9808,
          -96.8067,
          null,
          -74.006,
          -73.9425,
          -75.4755,
          -78.1594,
          -78.1594,
          -78.1594,
          -93.6091,
          -75.1636,
          -78.0206,
          -74.006,
          -74.006,
          -75.2341,
          -75.2341
         ],
         "marker": {
          "color": "#636efa"
         },
         "mode": "markers",
         "name": "False",
         "showlegend": true,
         "subplot": "mapbox",
         "type": "scattermapbox"
        },
        {
         "customdata": [
          [
           "Raleigh",
           "",
           "crawl-66-249-66-38.googlebot.com",
           "2024-03-01T04:19:58.767135+00:00",
           "2024-03-01T04:19:58.767135+00:00"
          ],
          [
           "Raleigh",
           "",
           "crawl-66-249-66-37.googlebot.com",
           "2024-03-01T03:27:40.548325+00:00",
           "2024-03-01T03:34:57.994692+00:00"
          ],
          [
           "Raleigh",
           "",
           "crawl-66-249-66-37.googlebot.com",
           "2024-03-01T08:10:32.620448+00:00",
           "2024-03-01T08:10:32.620448+00:00"
          ],
          [
           "Raleigh",
           "",
           "crawl-66-249-66-37.googlebot.com",
           "2024-03-01T08:55:32.506078+00:00",
           "2024-03-01T08:55:32.506078+00:00"
          ],
          [
           "Raleigh",
           "",
           "crawl-66-249-66-36.googlebot.com",
           "2024-03-01T06:10:31.455731+00:00",
           "2024-03-01T06:10:31.455731+00:00"
          ],
          [
           "Singapore",
           "",
           "petalbot-114-119-139-26.petalsearch.com",
           "2024-03-01T16:06:15.170411+00:00",
           "2024-03-01T16:06:15.170411+00:00"
          ],
          [
           "Tulsa",
           "",
           "crawl-66-249-73-128.googlebot.com",
           "2024-03-01T17:58:41.117368+00:00",
           "2024-03-01T18:16:39.486819+00:00"
          ],
          [
           "Moses Lake",
           "",
           "",
           "2024-03-01T18:10:37.636477+00:00",
           "2024-03-01T18:10:37.636477+00:00"
          ]
         ],
         "hovertemplate": "<b>%{hovertext}</b><br><br>is_bot=True<br>lat=%{lat}<br>lon=%{lon}<br>city=%{customdata[0]}<br>referrer=%{customdata[1]}<br>hostname=%{customdata[2]}<br>start_time=%{customdata[3]}<br>end_time=%{customdata[4]}<extra></extra>",
         "hovertext": [
          "66.249.66.38",
          "66.249.66.37",
          "66.249.66.37",
          "66.249.66.37",
          "66.249.66.36",
          "114.119.139.26",
          "66.249.73.128",
          "104.47.66.126"
         ],
         "lat": [
          35.7721,
          35.7721,
          35.7721,
          35.7721,
          35.7721,
          1.3557,
          36.154,
          47.1301
         ],
         "legendgroup": "True",
         "lon": [
          -78.6386,
          -78.6386,
          -78.6386,
          -78.6386,
          -78.6386,
          103.824,
          -95.9928,
          -119.278
         ],
         "marker": {
          "color": "#EF553B"
         },
         "mode": "markers",
         "name": "True",
         "showlegend": true,
         "subplot": "mapbox",
         "type": "scattermapbox"
        }
       ],
       "layout": {
        "legend": {
         "title": {
          "text": "is_bot"
         },
         "tracegroupgap": 0
        },
        "mapbox": {
         "accesstoken": "pk.eyJ1IjoiaXNhYWNpcyIsImEiOiJja3FpYXBkejQxeWEyMm9taTlwbmY0azM0In0.3DAzKo5Gihi-bw_eJdZneA",
         "center": {
          "lat": 37.36343999999999,
          "lon": -74.037208
         },
         "domain": {
          "x": [
           0,
           1
          ],
          "y": [
           0,
           1
          ]
         },
         "style": "open-street-map",
         "zoom": 1
        },
        "margin": {
         "t": 60
        },
        "template": {
         "data": {
          "bar": [
           {
            "error_x": {
             "color": "#2a3f5f"
            },
            "error_y": {
             "color": "#2a3f5f"
            },
            "marker": {
             "line": {
              "color": "#E5ECF6",
              "width": 0.5
             },
             "pattern": {
              "fillmode": "overlay",
              "size": 10,
              "solidity": 0.2
             }
            },
            "type": "bar"
           }
          ],
          "barpolar": [
           {
            "marker": {
             "line": {
              "color": "#E5ECF6",
              "width": 0.5
             },
             "pattern": {
              "fillmode": "overlay",
              "size": 10,
              "solidity": 0.2
             }
            },
            "type": "barpolar"
           }
          ],
          "carpet": [
           {
            "aaxis": {
             "endlinecolor": "#2a3f5f",
             "gridcolor": "white",
             "linecolor": "white",
             "minorgridcolor": "white",
             "startlinecolor": "#2a3f5f"
            },
            "baxis": {
             "endlinecolor": "#2a3f5f",
             "gridcolor": "white",
             "linecolor": "white",
             "minorgridcolor": "white",
             "startlinecolor": "#2a3f5f"
            },
            "type": "carpet"
           }
          ],
          "choropleth": [
           {
            "colorbar": {
             "outlinewidth": 0,
             "ticks": ""
            },
            "type": "choropleth"
           }
          ],
          "contour": [
           {
            "colorbar": {
             "outlinewidth": 0,
             "ticks": ""
            },
            "colorscale": [
             [
              0,
              "#0d0887"
             ],
             [
              0.1111111111111111,
              "#46039f"
             ],
             [
              0.2222222222222222,
              "#7201a8"
             ],
             [
              0.3333333333333333,
              "#9c179e"
             ],
             [
              0.4444444444444444,
              "#bd3786"
             ],
             [
              0.5555555555555556,
              "#d8576b"
             ],
             [
              0.6666666666666666,
              "#ed7953"
             ],
             [
              0.7777777777777778,
              "#fb9f3a"
             ],
             [
              0.8888888888888888,
              "#fdca26"
             ],
             [
              1,
              "#f0f921"
             ]
            ],
            "type": "contour"
           }
          ],
          "contourcarpet": [
           {
            "colorbar": {
             "outlinewidth": 0,
             "ticks": ""
            },
            "type": "contourcarpet"
           }
          ],
          "heatmap": [
           {
            "colorbar": {
             "outlinewidth": 0,
             "ticks": ""
            },
            "colorscale": [
             [
              0,
              "#0d0887"
             ],
             [
              0.1111111111111111,
              "#46039f"
             ],
             [
              0.2222222222222222,
              "#7201a8"
             ],
             [
              0.3333333333333333,
              "#9c179e"
             ],
             [
              0.4444444444444444,
              "#bd3786"
             ],
             [
              0.5555555555555556,
              "#d8576b"
             ],
             [
              0.6666666666666666,
              "#ed7953"
             ],
             [
              0.7777777777777778,
              "#fb9f3a"
             ],
             [
              0.8888888888888888,
              "#fdca26"
             ],
             [
              1,
              "#f0f921"
             ]
            ],
            "type": "heatmap"
           }
          ],
          "heatmapgl": [
           {
            "colorbar": {
             "outlinewidth": 0,
             "ticks": ""
            },
            "colorscale": [
             [
              0,
              "#0d0887"
             ],
             [
              0.1111111111111111,
              "#46039f"
             ],
             [
              0.2222222222222222,
              "#7201a8"
             ],
             [
              0.3333333333333333,
              "#9c179e"
             ],
             [
              0.4444444444444444,
              "#bd3786"
             ],
             [
              0.5555555555555556,
              "#d8576b"
             ],
             [
              0.6666666666666666,
              "#ed7953"
             ],
             [
              0.7777777777777778,
              "#fb9f3a"
             ],
             [
              0.8888888888888888,
              "#fdca26"
             ],
             [
              1,
              "#f0f921"
             ]
            ],
            "type": "heatmapgl"
           }
          ],
          "histogram": [
           {
            "marker": {
             "pattern": {
              "fillmode": "overlay",
              "size": 10,
              "solidity": 0.2
             }
            },
            "type": "histogram"
           }
          ],
          "histogram2d": [
           {
            "colorbar": {
             "outlinewidth": 0,
             "ticks": ""
            },
            "colorscale": [
             [
              0,
              "#0d0887"
             ],
             [
              0.1111111111111111,
              "#46039f"
             ],
             [
              0.2222222222222222,
              "#7201a8"
             ],
             [
              0.3333333333333333,
              "#9c179e"
             ],
             [
              0.4444444444444444,
              "#bd3786"
             ],
             [
              0.5555555555555556,
              "#d8576b"
             ],
             [
              0.6666666666666666,
              "#ed7953"
             ],
             [
              0.7777777777777778,
              "#fb9f3a"
             ],
             [
              0.8888888888888888,
              "#fdca26"
             ],
             [
              1,
              "#f0f921"
             ]
            ],
            "type": "histogram2d"
           }
          ],
          "histogram2dcontour": [
           {
            "colorbar": {
             "outlinewidth": 0,
             "ticks": ""
            },
            "colorscale": [
             [
              0,
              "#0d0887"
             ],
             [
              0.1111111111111111,
              "#46039f"
             ],
             [
              0.2222222222222222,
              "#7201a8"
             ],
             [
              0.3333333333333333,
              "#9c179e"
             ],
             [
              0.4444444444444444,
              "#bd3786"
             ],
             [
              0.5555555555555556,
              "#d8576b"
             ],
             [
              0.6666666666666666,
              "#ed7953"
             ],
             [
              0.7777777777777778,
              "#fb9f3a"
             ],
             [
              0.8888888888888888,
              "#fdca26"
             ],
             [
              1,
              "#f0f921"
             ]
            ],
            "type": "histogram2dcontour"
           }
          ],
          "mesh3d": [
           {
            "colorbar": {
             "outlinewidth": 0,
             "ticks": ""
            },
            "type": "mesh3d"
           }
          ],
          "parcoords": [
           {
            "line": {
             "colorbar": {
              "outlinewidth": 0,
              "ticks": ""
             }
            },
            "type": "parcoords"
           }
          ],
          "pie": [
           {
            "automargin": true,
            "type": "pie"
           }
          ],
          "scatter": [
           {
            "fillpattern": {
             "fillmode": "overlay",
             "size": 10,
             "solidity": 0.2
            },
            "type": "scatter"
           }
          ],
          "scatter3d": [
           {
            "line": {
             "colorbar": {
              "outlinewidth": 0,
              "ticks": ""
             }
            },
            "marker": {
             "colorbar": {
              "outlinewidth": 0,
              "ticks": ""
             }
            },
            "type": "scatter3d"
           }
          ],
          "scattercarpet": [
           {
            "marker": {
             "colorbar": {
              "outlinewidth": 0,
              "ticks": ""
             }
            },
            "type": "scattercarpet"
           }
          ],
          "scattergeo": [
           {
            "marker": {
             "colorbar": {
              "outlinewidth": 0,
              "ticks": ""
             }
            },
            "type": "scattergeo"
           }
          ],
          "scattergl": [
           {
            "marker": {
             "colorbar": {
              "outlinewidth": 0,
              "ticks": ""
             }
            },
            "type": "scattergl"
           }
          ],
          "scattermapbox": [
           {
            "marker": {
             "colorbar": {
              "outlinewidth": 0,
              "ticks": ""
             }
            },
            "type": "scattermapbox"
           }
          ],
          "scatterpolar": [
           {
            "marker": {
             "colorbar": {
              "outlinewidth": 0,
              "ticks": ""
             }
            },
            "type": "scatterpolar"
           }
          ],
          "scatterpolargl": [
           {
            "marker": {
             "colorbar": {
              "outlinewidth": 0,
              "ticks": ""
             }
            },
            "type": "scatterpolargl"
           }
          ],
          "scatterternary": [
           {
            "marker": {
             "colorbar": {
              "outlinewidth": 0,
              "ticks": ""
             }
            },
            "type": "scatterternary"
           }
          ],
          "surface": [
           {
            "colorbar": {
             "outlinewidth": 0,
             "ticks": ""
            },
            "colorscale": [
             [
              0,
              "#0d0887"
             ],
             [
              0.1111111111111111,
              "#46039f"
             ],
             [
              0.2222222222222222,
              "#7201a8"
             ],
             [
              0.3333333333333333,
              "#9c179e"
             ],
             [
              0.4444444444444444,
              "#bd3786"
             ],
             [
              0.5555555555555556,
              "#d8576b"
             ],
             [
              0.6666666666666666,
              "#ed7953"
             ],
             [
              0.7777777777777778,
              "#fb9f3a"
             ],
             [
              0.8888888888888888,
              "#fdca26"
             ],
             [
              1,
              "#f0f921"
             ]
            ],
            "type": "surface"
           }
          ],
          "table": [
           {
            "cells": {
             "fill": {
              "color": "#EBF0F8"
             },
             "line": {
              "color": "white"
             }
            },
            "header": {
             "fill": {
              "color": "#C8D4E3"
             },
             "line": {
              "color": "white"
             }
            },
            "type": "table"
           }
          ]
         },
         "layout": {
          "annotationdefaults": {
           "arrowcolor": "#2a3f5f",
           "arrowhead": 0,
           "arrowwidth": 1
          },
          "autotypenumbers": "strict",
          "coloraxis": {
           "colorbar": {
            "outlinewidth": 0,
            "ticks": ""
           }
          },
          "colorscale": {
           "diverging": [
            [
             0,
             "#8e0152"
            ],
            [
             0.1,
             "#c51b7d"
            ],
            [
             0.2,
             "#de77ae"
            ],
            [
             0.3,
             "#f1b6da"
            ],
            [
             0.4,
             "#fde0ef"
            ],
            [
             0.5,
             "#f7f7f7"
            ],
            [
             0.6,
             "#e6f5d0"
            ],
            [
             0.7,
             "#b8e186"
            ],
            [
             0.8,
             "#7fbc41"
            ],
            [
             0.9,
             "#4d9221"
            ],
            [
             1,
             "#276419"
            ]
           ],
           "sequential": [
            [
             0,
             "#0d0887"
            ],
            [
             0.1111111111111111,
             "#46039f"
            ],
            [
             0.2222222222222222,
             "#7201a8"
            ],
            [
             0.3333333333333333,
             "#9c179e"
            ],
            [
             0.4444444444444444,
             "#bd3786"
            ],
            [
             0.5555555555555556,
             "#d8576b"
            ],
            [
             0.6666666666666666,
             "#ed7953"
            ],
            [
             0.7777777777777778,
             "#fb9f3a"
            ],
            [
             0.8888888888888888,
             "#fdca26"
            ],
            [
             1,
             "#f0f921"
            ]
           ],
           "sequentialminus": [
            [
             0,
             "#0d0887"
            ],
            [
             0.1111111111111111,
             "#46039f"
            ],
            [
             0.2222222222222222,
             "#7201a8"
            ],
            [
             0.3333333333333333,
             "#9c179e"
            ],
            [
             0.4444444444444444,
             "#bd3786"
            ],
            [
             0.5555555555555556,
             "#d8576b"
            ],
            [
             0.6666666666666666,
             "#ed7953"
            ],
            [
             0.7777777777777778,
             "#fb9f3a"
            ],
            [
             0.8888888888888888,
             "#fdca26"
            ],
            [
             1,
             "#f0f921"
            ]
           ]
          },
          "colorway": [
           "#636efa",
           "#EF553B",
           "#00cc96",
           "#ab63fa",
           "#FFA15A",
           "#19d3f3",
           "#FF6692",
           "#B6E880",
           "#FF97FF",
           "#FECB52"
          ],
          "font": {
           "color": "#2a3f5f"
          },
          "geo": {
           "bgcolor": "white",
           "lakecolor": "white",
           "landcolor": "#E5ECF6",
           "showlakes": true,
           "showland": true,
           "subunitcolor": "white"
          },
          "hoverlabel": {
           "align": "left"
          },
          "hovermode": "closest",
          "mapbox": {
           "style": "light"
          },
          "paper_bgcolor": "white",
          "plot_bgcolor": "#E5ECF6",
          "polar": {
           "angularaxis": {
            "gridcolor": "white",
            "linecolor": "white",
            "ticks": ""
           },
           "bgcolor": "#E5ECF6",
           "radialaxis": {
            "gridcolor": "white",
            "linecolor": "white",
            "ticks": ""
           }
          },
          "scene": {
           "xaxis": {
            "backgroundcolor": "#E5ECF6",
            "gridcolor": "white",
            "gridwidth": 2,
            "linecolor": "white",
            "showbackground": true,
            "ticks": "",
            "zerolinecolor": "white"
           },
           "yaxis": {
            "backgroundcolor": "#E5ECF6",
            "gridcolor": "white",
            "gridwidth": 2,
            "linecolor": "white",
            "showbackground": true,
            "ticks": "",
            "zerolinecolor": "white"
           },
           "zaxis": {
            "backgroundcolor": "#E5ECF6",
            "gridcolor": "white",
            "gridwidth": 2,
            "linecolor": "white",
            "showbackground": true,
            "ticks": "",
            "zerolinecolor": "white"
           }
          },
          "shapedefaults": {
           "line": {
            "color": "#2a3f5f"
           }
          },
          "ternary": {
           "aaxis": {
            "gridcolor": "white",
            "linecolor": "white",
            "ticks": ""
           },
           "baxis": {
            "gridcolor": "white",
            "linecolor": "white",
            "ticks": ""
           },
           "bgcolor": "#E5ECF6",
           "caxis": {
            "gridcolor": "white",
            "linecolor": "white",
            "ticks": ""
           }
          },
          "title": {
           "x": 0.05
          },
          "xaxis": {
           "automargin": true,
           "gridcolor": "white",
           "linecolor": "white",
           "ticks": "",
           "title": {
            "standoff": 15
           },
           "zerolinecolor": "white",
           "zerolinewidth": 2
          },
          "yaxis": {
           "automargin": true,
           "gridcolor": "white",
           "linecolor": "white",
           "ticks": "",
           "title": {
            "standoff": 15
           },
           "zerolinecolor": "white",
           "zerolinewidth": 2
          }
         }
        }
       }
      }
     },
     "metadata": {},
     "output_type": "display_data"
    }
   ],
   "source": [
    "dots_df = sessions_df.copy()\n",
    "dots_df['lat'] = None\n",
    "dots_df['lon'] = None\n",
    "dots_df['city'] = None\n",
    "dots_df['is_bot'] = None\n",
    "dots_df['referrer'] = None\n",
    "dots_df['hostname'] = None\n",
    "for i, row in dots_df.iterrows():\n",
    "    lat = visitors_df[visitors_df['ip_address'] == row['ip_address']].iloc[0]['lat']\n",
    "    lon = visitors_df[visitors_df['ip_address'] == row['ip_address']].iloc[0]['lon']\n",
    "    city = visitors_df[visitors_df['ip_address'] == row['ip_address']].iloc[0]['city']\n",
    "    is_bot = visitors_df[visitors_df['ip_address'] == row['ip_address']].iloc[0]['is_bot']\n",
    "    referrer = visits_df[visits_df['id'].isin(row['visit_ids'])].iloc[0]['referrer']\n",
    "    hostname = visitors_df[visitors_df['ip_address'] == row['ip_address']].iloc[0]['hostname']\n",
    "    dots_df.at[i, 'lat'] = lat\n",
    "    dots_df.at[i, 'lon'] = lon\n",
    "    dots_df.at[i, 'city'] = city\n",
    "    dots_df.at[i, 'is_bot'] = is_bot\n",
    "    if not referrer:\n",
    "        referrer = \"\"\n",
    "    dots_df.at[i, 'referrer'] = referrer\n",
    "    if not hostname:\n",
    "        hostname = \"\"\n",
    "    dots_df.at[i, 'hostname'] = hostname\n",
    "\n",
    "num_last_days = 1\n",
    "\n",
    "dots_df['start_time'] = pd.to_datetime(dots_df['start_time'])\n",
    "timezone = dots_df['start_time'].dt.tz\n",
    "seven_days_ago = datetime.now(timezone) - timedelta(days=num_last_days)\n",
    "dots_df = dots_df[dots_df['start_time'] > seven_days_ago]\n",
    "\n",
    "fig = px.scatter_mapbox(dots_df, lat=\"lat\", lon=\"lon\", color=\"is_bot\", hover_name=\"ip_address\", hover_data=[\"city\", \"referrer\", \"hostname\", \"start_time\", \"end_time\",], zoom=1)\n",
    "fig.update_layout(mapbox_style=\"open-street-map\")\n",
    "fig.show()"
   ]
  }
 ],
 "metadata": {
  "kernelspec": {
   "display_name": "pytorch",
   "language": "python",
   "name": "python3"
  },
  "language_info": {
   "codemirror_mode": {
    "name": "ipython",
    "version": 3
   },
   "file_extension": ".py",
   "mimetype": "text/x-python",
   "name": "python",
   "nbconvert_exporter": "python",
   "pygments_lexer": "ipython3",
   "version": "3.10.9"
  }
 },
 "nbformat": 4,
 "nbformat_minor": 2
}
